{
 "cells": [
  {
   "cell_type": "code",
   "execution_count": 18,
   "id": "ef9cc5cb-3ce4-4e59-abd5-75785e4eb067",
   "metadata": {},
   "outputs": [],
   "source": [
    "import pandas as pd\n",
    "from pandas import option_context\n",
    "import numpy as np\n",
    "import requests\n",
    "import seaborn as sns\n",
    "import datetime\n",
    "import cliffsDelta as cd\n",
    "import os\n",
    "\n",
    "from tqdm import tqdm\n",
    "from statsmodels.stats.inter_rater import fleiss_kappa,aggregate_raters\n",
    "from scipy.stats import mannwhitneyu,shapiro,ttest_ind"
   ]
  },
  {
   "cell_type": "code",
   "execution_count": 19,
   "id": "67f34e37-48e6-4033-b30f-5ba256427f26",
   "metadata": {},
   "outputs": [],
   "source": [
    "QUERY_ROOT = \"https://api.github.com\"\n",
    "TOKEN = os.getenv(\"GH_TOKEN\") # write your GitHub API key here\n",
    "HEADERS={'Authorization':'token '+TOKEN}"
   ]
  },
  {
   "cell_type": "markdown",
   "id": "8095c72b-abe2-46b8-9034-1d9c7d98d3ad",
   "metadata": {},
   "source": [
    "## Section 3"
   ]
  },
  {
   "cell_type": "markdown",
   "id": "01c6e0c3-b012-4f00-a033-ddf3b74747c7",
   "metadata": {},
   "source": [
    "### Question 1"
   ]
  },
  {
   "cell_type": "markdown",
   "id": "2a3cc77d-eedd-4b5a-a560-b17a5a2b4cc4",
   "metadata": {},
   "source": [
    "#### Write an automated Python script to identify the GitHub Apps in the list of accounts, by calling the GitHub Users API and extracting the required information to make this decision. \n",
    "\n",
    "#### More information: You can search for the \"type\" key in the obtianed JSON result, If it is \"Bot\", then it is an app, if it is \"User\", then it is an account."
   ]
  },
  {
   "cell_type": "code",
   "execution_count": 20,
   "id": "2d0275f0-5c13-42ea-9025-5ea307d6398d",
   "metadata": {},
   "outputs": [
    {
     "name": "stdout",
     "output_type": "stream",
     "text": [
      "                          contributor bothunter\n",
      "0                            lszomoru     Human\n",
      "1                             piraces     Human\n",
      "2                         CoolPlayLin     Human\n",
      "3                          lutzroeder     Human\n",
      "4                           TejasMate     Human\n",
      "5                     dmitriy-abramov     Human\n",
      "6                             twpayne     Human\n",
      "7                         stacklokbot       Bot\n",
      "8                          CHIZI-0618     Human\n",
      "9                              Nifury     Human\n",
      "10                              jjw24     Human\n",
      "11                             exoosh     Human\n",
      "12                       SpecterShell     Human\n",
      "13               youtube-music-winget     Human\n",
      "14               azure-pipelines[bot]       Bot\n",
      "15                       msftbot[bot]       Bot\n",
      "16                        msftrubengu     Human\n",
      "17                          kevinboss     Human\n",
      "18                        nvim-winget       Bot\n",
      "19                           rozmansi     Human\n",
      "20                      stephengillie       Bot\n",
      "21                          ItzLevvie     Human\n",
      "22                             stenya     Human\n",
      "23                              ateoi     Human\n",
      "24                       xiaoyang-sde     Human\n",
      "25                            ath0mas     Human\n",
      "26                        auanasgheps     Human\n",
      "27                          MaanuelMM     Human\n",
      "28                        marcauberer     Human\n",
      "29                       JakubMatejka     Human\n",
      "30                           azclibot       Bot\n",
      "31                     cafkbot-winget     Human\n",
      "32                            itsAdee     Human\n",
      "33                         pulumi-bot       Bot\n",
      "34  robot-github-winget-datadog-agent     Human\n",
      "35                             FaserF     Human\n",
      "36                            zkochan     Human\n",
      "37                       aaronliu0130     Human\n",
      "38                     coolplaylinbot       Bot\n",
      "39                 podman-desktop-bot       Bot\n"
     ]
    }
   ],
   "source": [
    "# 1. Read the given .csv file into a pandas DataFrame (df).\n",
    "# 2. Make sure there are 2 columns, one column name is \"contributor\" that has the name of the contributor, \n",
    "#    and another column name is \"bothunter\" that you will use later on in this assignment.\n",
    "# 3. Display the DataFrame.\n",
    "\n",
    "# YOUR CODE BELOW\n",
    "df = pd.read_csv(\"microsoft_winget-pkgs_2/microsoft_winget-pkgs_2.csv\")\n",
    "print(df)"
   ]
  },
  {
   "cell_type": "code",
   "execution_count": 21,
   "id": "f9312364-57d3-4f26-a216-82a22eea8349",
   "metadata": {},
   "outputs": [
    {
     "name": "stdout",
     "output_type": "stream",
     "text": [
      "['lszomoru', 'piraces', 'CoolPlayLin', 'lutzroeder', 'TejasMate', 'dmitriy-abramov', 'twpayne', 'stacklokbot', 'CHIZI-0618', 'Nifury', 'jjw24', 'exoosh', 'SpecterShell', 'youtube-music-winget', 'azure-pipelines[bot]', 'msftbot[bot]', 'msftrubengu', 'kevinboss', 'nvim-winget', 'rozmansi', 'stephengillie', 'ItzLevvie', 'stenya', 'ateoi', 'xiaoyang-sde', 'ath0mas', 'auanasgheps', 'MaanuelMM', 'marcauberer', 'JakubMatejka', 'azclibot', 'cafkbot-winget', 'itsAdee', 'pulumi-bot', 'robot-github-winget-datadog-agent', 'FaserF', 'zkochan', 'aaronliu0130', 'coolplaylinbot', 'podman-desktop-bot']\n"
     ]
    }
   ],
   "source": [
    "# 1. Store the names of the contributors in a list using the code snippet: 'df.contributor.to_list()'\n",
    "# 2. print the list\n",
    "\n",
    "# YOUR CODE BELOW\n",
    "names = df.contributor.to_list()\n",
    "print(names)"
   ]
  },
  {
   "cell_type": "code",
   "execution_count": 22,
   "id": "2cd6ab44-f113-466a-863c-862674798f4c",
   "metadata": {},
   "outputs": [
    {
     "name": "stdout",
     "output_type": "stream",
     "text": [
      "                          contributor    app\n",
      "0                            lszomoru  False\n",
      "1                             piraces  False\n",
      "2                         CoolPlayLin  False\n",
      "3                          lutzroeder  False\n",
      "4                           TejasMate  False\n",
      "5                     dmitriy-abramov  False\n",
      "6                             twpayne  False\n",
      "7                         stacklokbot  False\n",
      "8                          CHIZI-0618  False\n",
      "9                              Nifury  False\n",
      "10                              jjw24  False\n",
      "11                             exoosh  False\n",
      "12                       SpecterShell  False\n",
      "13               youtube-music-winget  False\n",
      "14               azure-pipelines[bot]   True\n",
      "15                       msftbot[bot]   True\n",
      "16                        msftrubengu  False\n",
      "17                          kevinboss  False\n",
      "18                        nvim-winget  False\n",
      "19                           rozmansi  False\n",
      "20                      stephengillie  False\n",
      "21                          ItzLevvie  False\n",
      "22                             stenya  False\n",
      "23                              ateoi  False\n",
      "24                       xiaoyang-sde  False\n",
      "25                            ath0mas  False\n",
      "26                        auanasgheps  False\n",
      "27                          MaanuelMM  False\n",
      "28                        marcauberer  False\n",
      "29                       JakubMatejka  False\n",
      "30                           azclibot  False\n",
      "31                     cafkbot-winget  False\n",
      "32                            itsAdee  False\n",
      "33                         pulumi-bot  False\n",
      "34  robot-github-winget-datadog-agent  False\n",
      "35                             FaserF  False\n",
      "36                            zkochan  False\n",
      "37                       aaronliu0130  False\n",
      "38                     coolplaylinbot  False\n",
      "39                 podman-desktop-bot  False\n"
     ]
    }
   ],
   "source": [
    "# 1. Using a for loop, iterate over each contributor in the list and query the GitHub Users API.\n",
    "#    You can use \"query = f'{QUERY_ROOT}/users/{contributor}'\", where QUERY_ROOT is defined at the beginning of this notebook \n",
    "#    above and 'contributor' is each individul contributor from the list\n",
    "# 2. Get the response using 'response = requests.get(query, headers=HEADERS)'.\n",
    "# 3. convert the response to JSON using 'json_response = response.json()'.\n",
    "# 4. Iterate over this JSON response and get the value of the 'type' key. If it is \"Bot\" then the contributor is an App, \n",
    "#    if \"User\" then the contributor is an account. You should boolean values to indicate if the contributor is an App (True) or User/Organisation (False)\n",
    "# 5. Save these results in list of dictionary of the form [{'contributor': <contributor name>, 'app': <boolean value>}, {...}, {...}, {...}].\n",
    "#    Lets call this list as \"app_list_dict\"\n",
    "# 6. Finally convert this list of dictionary to DataFrame by writing 'pd.DataFrame.from_dict(app_dict)'\n",
    "# 7. Display the DataFrame. This should have two columns - contributor and app\n",
    "\n",
    "# YOUR CODE BELOW\n",
    "app_list_dict = []\n",
    "for contributor in names:\n",
    "    query = f'{QUERY_ROOT}/users/{contributor}'\n",
    "    response = requests.get(query, headers=HEADERS)\n",
    "    json_response = response.json()\n",
    "    is_app = json_response['type'] == \"Bot\"\n",
    "    app_list_dict.append({'contributor':contributor, 'app':is_app})\n",
    "app_df = pd.DataFrame.from_dict(app_list_dict)\n",
    "print(app_df)"
   ]
  },
  {
   "cell_type": "markdown",
   "id": "bf7a784f-8b41-488b-8034-7f66ed9b6d97",
   "metadata": {},
   "source": [
    "### Question 2\n",
    "\n",
    "#### Add an app column in the CSV file to store this information. You can write True if it is an app and False if it is not.\n"
   ]
  },
  {
   "cell_type": "code",
   "execution_count": 115,
   "id": "242398c5-d3ae-472f-99e8-ac86be7897c2",
   "metadata": {},
   "outputs": [
    {
     "name": "stdout",
     "output_type": "stream",
     "text": [
      "                          contributor bothunter\n",
      "0                            lszomoru     Human\n",
      "1                             piraces     Human\n",
      "2                         CoolPlayLin     Human\n",
      "3                          lutzroeder     Human\n",
      "4                           TejasMate     Human\n",
      "5                     dmitriy-abramov     Human\n",
      "6                             twpayne     Human\n",
      "7                         stacklokbot       Bot\n",
      "8                          CHIZI-0618     Human\n",
      "9                              Nifury     Human\n",
      "10                              jjw24     Human\n",
      "11                             exoosh     Human\n",
      "12                       SpecterShell     Human\n",
      "13               youtube-music-winget     Human\n",
      "14               azure-pipelines[bot]       Bot\n",
      "15                       msftbot[bot]       Bot\n",
      "16                        msftrubengu     Human\n",
      "17                          kevinboss     Human\n",
      "18                        nvim-winget       Bot\n",
      "19                           rozmansi     Human\n",
      "20                      stephengillie       Bot\n",
      "21                          ItzLevvie     Human\n",
      "22                             stenya     Human\n",
      "23                              ateoi     Human\n",
      "24                       xiaoyang-sde     Human\n",
      "25                            ath0mas     Human\n",
      "26                        auanasgheps     Human\n",
      "27                          MaanuelMM     Human\n",
      "28                        marcauberer     Human\n",
      "29                       JakubMatejka     Human\n",
      "30                           azclibot       Bot\n",
      "31                     cafkbot-winget     Human\n",
      "32                            itsAdee     Human\n",
      "33                         pulumi-bot       Bot\n",
      "34  robot-github-winget-datadog-agent     Human\n",
      "35                             FaserF     Human\n",
      "36                            zkochan     Human\n",
      "37                       aaronliu0130     Human\n",
      "38                     coolplaylinbot       Bot\n",
      "39                 podman-desktop-bot       Bot\n"
     ]
    }
   ],
   "source": [
    "# Merge the app DataFrame to df by writing 'pd.merge(df, <app df>, on='contributor'). This is similar to SQL join on primary key 'contributor'.\n",
    "# The resultant df should have 3 columns - contributor, bothunter and app.\n",
    "\n",
    "# YOUR CODE BELOW\n",
    "#df = pd.merge(df, app_df, on='contributor')\n",
    "print(df)\n"
   ]
  },
  {
   "cell_type": "markdown",
   "id": "db9ba7d8-7a6f-4485-8e7b-bc5a00646021",
   "metadata": {},
   "source": [
    "### Question 3\n",
    "\n",
    "#### Report on the total number of GitHub Apps, and User accounts present in the list of accounts of your dataset."
   ]
  },
  {
   "cell_type": "code",
   "execution_count": 24,
   "id": "3092d616-2426-417a-95be-7f54f1124eff",
   "metadata": {},
   "outputs": [],
   "source": [
    "df.to_csv(\"microsoft_winget-pkgs_2/microsoft_winget-pkgs_2_app.csv\",index=False)"
   ]
  },
  {
   "cell_type": "markdown",
   "id": "406e178f-2b41-4758-b075-e2eea47f3991",
   "metadata": {},
   "source": [
    "## Section 4"
   ]
  },
  {
   "cell_type": "markdown",
   "id": "a05bb032-1b55-402e-8074-42f2210f3a16",
   "metadata": {},
   "source": [
    "### Question 1"
   ]
  },
  {
   "cell_type": "markdown",
   "id": "48285de2-8b3a-481a-bf93-b99295ba8a4a",
   "metadata": {},
   "source": [
    "#### Write an automated script to report on the prediction of the GitHub accounts in your dataset, using BoDeGHa and RABBIT bot identification tools. For each tool, your script should add an extra column to the CSV ﬁle of your dataset, reporting the prediction (bot, human, unknown) of the considered tool on the considered account."
   ]
  },
  {
   "cell_type": "markdown",
   "id": "35d19172-9890-4706-93a1-663c8b2d28bd",
   "metadata": {},
   "source": [
    "#### More information:\n",
    "You can write an automated script to execute BoDeGHa and RABBIT, and save the results in a DataFrame. For BoDeGHa, you can ask the tool to give the output in CSV format, save it as a csv file and read it in a DataFrame. For RABBIT, you can use its internal argument to store the results in a .csv file and read it in a DataFrame. Remember to read their Documentation (Readme.md) for their input arguments and example outputs before using these tools.  \n",
    "Similar to what you did in Section 2 - Question 1 and 2, add an additional column named 'bodegha' to store the predictions \n",
    "given by BoDeGHa and add another column called 'rabbit' to store the preditions given by RABBIT. "
   ]
  },
  {
   "cell_type": "code",
   "execution_count": 25,
   "id": "ee4006c3-796d-4a7a-9b97-ec5007cc0680",
   "metadata": {},
   "outputs": [
    {
     "name": "stdout",
     "output_type": "stream",
     "text": [
      "                          contributor bodegha\n",
      "0                          CHIZI-0618     Bot\n",
      "1                         CoolPlayLin     Bot\n",
      "2                           MaanuelMM     Bot\n",
      "3                              Nifury     Bot\n",
      "4                        SpecterShell     Bot\n",
      "5                           TejasMate     Bot\n",
      "6                               ateoi     Bot\n",
      "7                         auanasgheps     Bot\n",
      "8                azure-pipelines[bot]     Bot\n",
      "9                      cafkbot-winget     Bot\n",
      "10                     coolplaylinbot     Bot\n",
      "11                            itsAdee     Bot\n",
      "12                          kevinboss     Bot\n",
      "13                           lszomoru     Bot\n",
      "14                         lutzroeder     Bot\n",
      "15                        marcauberer     Bot\n",
      "16                        nvim-winget     Bot\n",
      "17                         pulumi-bot     Bot\n",
      "18  robot-github-winget-datadog-agent     Bot\n",
      "19                        stacklokbot     Bot\n",
      "20                            twpayne     Bot\n",
      "21               youtube-music-winget     Bot\n",
      "22                            zkochan     Bot\n",
      "23                             FaserF   Human\n",
      "24                          ItzLevvie   Human\n",
      "25                       aaronliu0130   Human\n",
      "26                             exoosh   Human\n",
      "27                      stephengillie   Human\n"
     ]
    }
   ],
   "source": [
    "# Read the .csv file that has the predicitons given by BoDeGHa.\n",
    "\n",
    "# YOUR CODE BELOW\n",
    "bdf = pd.read_csv(\"microsoft_winget-pkgs_2/bodegha_predictions.csv\")\n",
    "bdf = bdf.rename(columns={\"account\":\"contributor\",\"prediction\":\"bodegha\"})\n",
    "\n",
    "print(bdf)\n"
   ]
  },
  {
   "cell_type": "code",
   "execution_count": 26,
   "id": "fd79d43a-902d-49f9-8ab4-2ca78e5f4393",
   "metadata": {},
   "outputs": [
    {
     "name": "stdout",
     "output_type": "stream",
     "text": [
      "                          contributor bothunter  bodegha\n",
      "0                            lszomoru     Human      Bot\n",
      "1                             piraces     Human  Unknown\n",
      "2                         CoolPlayLin     Human      Bot\n",
      "3                          lutzroeder     Human      Bot\n",
      "4                           TejasMate     Human      Bot\n",
      "5                     dmitriy-abramov     Human  Unknown\n",
      "6                             twpayne     Human      Bot\n",
      "7                         stacklokbot       Bot      Bot\n",
      "8                          CHIZI-0618     Human      Bot\n",
      "9                              Nifury     Human      Bot\n",
      "10                              jjw24     Human  Unknown\n",
      "11                             exoosh     Human    Human\n",
      "12                       SpecterShell     Human      Bot\n",
      "13               youtube-music-winget     Human      Bot\n",
      "14               azure-pipelines[bot]       Bot      Bot\n",
      "15                       msftbot[bot]       Bot  Unknown\n",
      "16                        msftrubengu     Human  Unknown\n",
      "17                          kevinboss     Human      Bot\n",
      "18                        nvim-winget       Bot      Bot\n",
      "19                           rozmansi     Human  Unknown\n",
      "20                      stephengillie       Bot    Human\n",
      "21                          ItzLevvie     Human    Human\n",
      "22                             stenya     Human  Unknown\n",
      "23                              ateoi     Human      Bot\n",
      "24                       xiaoyang-sde     Human  Unknown\n",
      "25                            ath0mas     Human  Unknown\n",
      "26                        auanasgheps     Human      Bot\n",
      "27                          MaanuelMM     Human      Bot\n",
      "28                        marcauberer     Human      Bot\n",
      "29                       JakubMatejka     Human  Unknown\n",
      "30                           azclibot       Bot  Unknown\n",
      "31                     cafkbot-winget     Human      Bot\n",
      "32                            itsAdee     Human      Bot\n",
      "33                         pulumi-bot       Bot      Bot\n",
      "34  robot-github-winget-datadog-agent     Human      Bot\n",
      "35                             FaserF     Human    Human\n",
      "36                            zkochan     Human      Bot\n",
      "37                       aaronliu0130     Human    Human\n",
      "38                     coolplaylinbot       Bot      Bot\n",
      "39                 podman-desktop-bot       Bot  Unknown\n"
     ]
    }
   ],
   "source": [
    "# merge it to df - Now your df should have the following four columns - contributor, bothunter, app, bodegha\n",
    "\n",
    "# YOUR CODE BELOW\n",
    "bdf_m = pd.merge(df,bdf, on=\"contributor\", how=\"left\")\n",
    "bdf_m[\"bodegha\"] = bdf_m.bodegha.fillna(\"Unknown\")\n",
    "\n",
    "\n",
    "print(bdf_m)"
   ]
  },
  {
   "cell_type": "code",
   "execution_count": 27,
   "id": "bf49eb15-f5b7-4543-a1e7-056c1f6205cf",
   "metadata": {},
   "outputs": [
    {
     "data": {
      "text/html": [
       "<div>\n",
       "<style scoped>\n",
       "    .dataframe tbody tr th:only-of-type {\n",
       "        vertical-align: middle;\n",
       "    }\n",
       "\n",
       "    .dataframe tbody tr th {\n",
       "        vertical-align: top;\n",
       "    }\n",
       "\n",
       "    .dataframe thead th {\n",
       "        text-align: right;\n",
       "    }\n",
       "</style>\n",
       "<table border=\"1\" class=\"dataframe\">\n",
       "  <thead>\n",
       "    <tr style=\"text-align: right;\">\n",
       "      <th></th>\n",
       "      <th>Unnamed: 0</th>\n",
       "      <th>contributor</th>\n",
       "      <th>prediction</th>\n",
       "      <th>confidence</th>\n",
       "    </tr>\n",
       "  </thead>\n",
       "  <tbody>\n",
       "    <tr>\n",
       "      <th>0</th>\n",
       "      <td>0</td>\n",
       "      <td>lszomoru</td>\n",
       "      <td>bot</td>\n",
       "      <td>0.930</td>\n",
       "    </tr>\n",
       "    <tr>\n",
       "      <th>1</th>\n",
       "      <td>1</td>\n",
       "      <td>piraces</td>\n",
       "      <td>human</td>\n",
       "      <td>1.000</td>\n",
       "    </tr>\n",
       "    <tr>\n",
       "      <th>2</th>\n",
       "      <td>2</td>\n",
       "      <td>CoolPlayLin</td>\n",
       "      <td>human</td>\n",
       "      <td>0.909</td>\n",
       "    </tr>\n",
       "    <tr>\n",
       "      <th>3</th>\n",
       "      <td>3</td>\n",
       "      <td>lutzroeder</td>\n",
       "      <td>human</td>\n",
       "      <td>0.948</td>\n",
       "    </tr>\n",
       "    <tr>\n",
       "      <th>4</th>\n",
       "      <td>4</td>\n",
       "      <td>TejasMate</td>\n",
       "      <td>bot</td>\n",
       "      <td>0.763</td>\n",
       "    </tr>\n",
       "    <tr>\n",
       "      <th>5</th>\n",
       "      <td>5</td>\n",
       "      <td>dmitriy-abramov</td>\n",
       "      <td>human</td>\n",
       "      <td>0.991</td>\n",
       "    </tr>\n",
       "    <tr>\n",
       "      <th>6</th>\n",
       "      <td>6</td>\n",
       "      <td>twpayne</td>\n",
       "      <td>human</td>\n",
       "      <td>0.999</td>\n",
       "    </tr>\n",
       "    <tr>\n",
       "      <th>7</th>\n",
       "      <td>7</td>\n",
       "      <td>stacklokbot</td>\n",
       "      <td>bot</td>\n",
       "      <td>0.965</td>\n",
       "    </tr>\n",
       "    <tr>\n",
       "      <th>8</th>\n",
       "      <td>8</td>\n",
       "      <td>CHIZI-0618</td>\n",
       "      <td>human</td>\n",
       "      <td>0.985</td>\n",
       "    </tr>\n",
       "    <tr>\n",
       "      <th>9</th>\n",
       "      <td>9</td>\n",
       "      <td>Nifury</td>\n",
       "      <td>human</td>\n",
       "      <td>0.999</td>\n",
       "    </tr>\n",
       "    <tr>\n",
       "      <th>10</th>\n",
       "      <td>10</td>\n",
       "      <td>jjw24</td>\n",
       "      <td>human</td>\n",
       "      <td>0.992</td>\n",
       "    </tr>\n",
       "    <tr>\n",
       "      <th>11</th>\n",
       "      <td>11</td>\n",
       "      <td>exoosh</td>\n",
       "      <td>human</td>\n",
       "      <td>0.999</td>\n",
       "    </tr>\n",
       "    <tr>\n",
       "      <th>12</th>\n",
       "      <td>12</td>\n",
       "      <td>SpecterShell</td>\n",
       "      <td>bot</td>\n",
       "      <td>0.987</td>\n",
       "    </tr>\n",
       "    <tr>\n",
       "      <th>13</th>\n",
       "      <td>13</td>\n",
       "      <td>youtube-music-winget</td>\n",
       "      <td>bot</td>\n",
       "      <td>0.944</td>\n",
       "    </tr>\n",
       "    <tr>\n",
       "      <th>14</th>\n",
       "      <td>14</td>\n",
       "      <td>azure-pipelines[bot]</td>\n",
       "      <td>app</td>\n",
       "      <td>1.000</td>\n",
       "    </tr>\n",
       "    <tr>\n",
       "      <th>15</th>\n",
       "      <td>15</td>\n",
       "      <td>msftbot[bot]</td>\n",
       "      <td>app</td>\n",
       "      <td>1.000</td>\n",
       "    </tr>\n",
       "    <tr>\n",
       "      <th>16</th>\n",
       "      <td>16</td>\n",
       "      <td>msftrubengu</td>\n",
       "      <td>human</td>\n",
       "      <td>0.998</td>\n",
       "    </tr>\n",
       "    <tr>\n",
       "      <th>17</th>\n",
       "      <td>17</td>\n",
       "      <td>kevinboss</td>\n",
       "      <td>human</td>\n",
       "      <td>0.935</td>\n",
       "    </tr>\n",
       "    <tr>\n",
       "      <th>18</th>\n",
       "      <td>18</td>\n",
       "      <td>nvim-winget</td>\n",
       "      <td>unknown</td>\n",
       "      <td>NaN</td>\n",
       "    </tr>\n",
       "    <tr>\n",
       "      <th>19</th>\n",
       "      <td>19</td>\n",
       "      <td>rozmansi</td>\n",
       "      <td>human</td>\n",
       "      <td>0.993</td>\n",
       "    </tr>\n",
       "    <tr>\n",
       "      <th>20</th>\n",
       "      <td>20</td>\n",
       "      <td>stephengillie</td>\n",
       "      <td>bot</td>\n",
       "      <td>0.786</td>\n",
       "    </tr>\n",
       "    <tr>\n",
       "      <th>21</th>\n",
       "      <td>21</td>\n",
       "      <td>ItzLevvie</td>\n",
       "      <td>human</td>\n",
       "      <td>0.728</td>\n",
       "    </tr>\n",
       "    <tr>\n",
       "      <th>22</th>\n",
       "      <td>22</td>\n",
       "      <td>stenya</td>\n",
       "      <td>human</td>\n",
       "      <td>0.999</td>\n",
       "    </tr>\n",
       "    <tr>\n",
       "      <th>23</th>\n",
       "      <td>23</td>\n",
       "      <td>ateoi</td>\n",
       "      <td>bot</td>\n",
       "      <td>0.570</td>\n",
       "    </tr>\n",
       "    <tr>\n",
       "      <th>24</th>\n",
       "      <td>24</td>\n",
       "      <td>xiaoyang-sde</td>\n",
       "      <td>human</td>\n",
       "      <td>0.999</td>\n",
       "    </tr>\n",
       "    <tr>\n",
       "      <th>25</th>\n",
       "      <td>25</td>\n",
       "      <td>ath0mas</td>\n",
       "      <td>human</td>\n",
       "      <td>0.992</td>\n",
       "    </tr>\n",
       "    <tr>\n",
       "      <th>26</th>\n",
       "      <td>26</td>\n",
       "      <td>auanasgheps</td>\n",
       "      <td>human</td>\n",
       "      <td>0.991</td>\n",
       "    </tr>\n",
       "    <tr>\n",
       "      <th>27</th>\n",
       "      <td>27</td>\n",
       "      <td>MaanuelMM</td>\n",
       "      <td>human</td>\n",
       "      <td>0.999</td>\n",
       "    </tr>\n",
       "    <tr>\n",
       "      <th>28</th>\n",
       "      <td>28</td>\n",
       "      <td>marcauberer</td>\n",
       "      <td>human</td>\n",
       "      <td>0.996</td>\n",
       "    </tr>\n",
       "    <tr>\n",
       "      <th>29</th>\n",
       "      <td>29</td>\n",
       "      <td>JakubMatejka</td>\n",
       "      <td>human</td>\n",
       "      <td>0.989</td>\n",
       "    </tr>\n",
       "    <tr>\n",
       "      <th>30</th>\n",
       "      <td>30</td>\n",
       "      <td>azclibot</td>\n",
       "      <td>bot</td>\n",
       "      <td>0.994</td>\n",
       "    </tr>\n",
       "    <tr>\n",
       "      <th>31</th>\n",
       "      <td>31</td>\n",
       "      <td>cafkbot-winget</td>\n",
       "      <td>bot</td>\n",
       "      <td>0.990</td>\n",
       "    </tr>\n",
       "    <tr>\n",
       "      <th>32</th>\n",
       "      <td>32</td>\n",
       "      <td>itsAdee</td>\n",
       "      <td>human</td>\n",
       "      <td>0.998</td>\n",
       "    </tr>\n",
       "    <tr>\n",
       "      <th>33</th>\n",
       "      <td>33</td>\n",
       "      <td>pulumi-bot</td>\n",
       "      <td>bot</td>\n",
       "      <td>0.955</td>\n",
       "    </tr>\n",
       "    <tr>\n",
       "      <th>34</th>\n",
       "      <td>34</td>\n",
       "      <td>robot-github-winget-datadog-agent</td>\n",
       "      <td>bot</td>\n",
       "      <td>0.925</td>\n",
       "    </tr>\n",
       "    <tr>\n",
       "      <th>35</th>\n",
       "      <td>35</td>\n",
       "      <td>FaserF</td>\n",
       "      <td>human</td>\n",
       "      <td>0.998</td>\n",
       "    </tr>\n",
       "    <tr>\n",
       "      <th>36</th>\n",
       "      <td>36</td>\n",
       "      <td>zkochan</td>\n",
       "      <td>human</td>\n",
       "      <td>0.998</td>\n",
       "    </tr>\n",
       "    <tr>\n",
       "      <th>37</th>\n",
       "      <td>37</td>\n",
       "      <td>aaronliu0130</td>\n",
       "      <td>human</td>\n",
       "      <td>0.999</td>\n",
       "    </tr>\n",
       "    <tr>\n",
       "      <th>38</th>\n",
       "      <td>38</td>\n",
       "      <td>coolplaylinbot</td>\n",
       "      <td>bot</td>\n",
       "      <td>0.998</td>\n",
       "    </tr>\n",
       "    <tr>\n",
       "      <th>39</th>\n",
       "      <td>39</td>\n",
       "      <td>podman-desktop-bot</td>\n",
       "      <td>human</td>\n",
       "      <td>0.621</td>\n",
       "    </tr>\n",
       "  </tbody>\n",
       "</table>\n",
       "</div>"
      ],
      "text/plain": [
       "    Unnamed: 0                        contributor prediction  confidence\n",
       "0            0                           lszomoru        bot       0.930\n",
       "1            1                            piraces      human       1.000\n",
       "2            2                        CoolPlayLin      human       0.909\n",
       "3            3                         lutzroeder      human       0.948\n",
       "4            4                          TejasMate        bot       0.763\n",
       "5            5                    dmitriy-abramov      human       0.991\n",
       "6            6                            twpayne      human       0.999\n",
       "7            7                        stacklokbot        bot       0.965\n",
       "8            8                         CHIZI-0618      human       0.985\n",
       "9            9                             Nifury      human       0.999\n",
       "10          10                              jjw24      human       0.992\n",
       "11          11                             exoosh      human       0.999\n",
       "12          12                       SpecterShell        bot       0.987\n",
       "13          13               youtube-music-winget        bot       0.944\n",
       "14          14               azure-pipelines[bot]        app       1.000\n",
       "15          15                       msftbot[bot]        app       1.000\n",
       "16          16                        msftrubengu      human       0.998\n",
       "17          17                          kevinboss      human       0.935\n",
       "18          18                        nvim-winget    unknown         NaN\n",
       "19          19                           rozmansi      human       0.993\n",
       "20          20                      stephengillie        bot       0.786\n",
       "21          21                          ItzLevvie      human       0.728\n",
       "22          22                             stenya      human       0.999\n",
       "23          23                              ateoi        bot       0.570\n",
       "24          24                       xiaoyang-sde      human       0.999\n",
       "25          25                            ath0mas      human       0.992\n",
       "26          26                        auanasgheps      human       0.991\n",
       "27          27                          MaanuelMM      human       0.999\n",
       "28          28                        marcauberer      human       0.996\n",
       "29          29                       JakubMatejka      human       0.989\n",
       "30          30                           azclibot        bot       0.994\n",
       "31          31                     cafkbot-winget        bot       0.990\n",
       "32          32                            itsAdee      human       0.998\n",
       "33          33                         pulumi-bot        bot       0.955\n",
       "34          34  robot-github-winget-datadog-agent        bot       0.925\n",
       "35          35                             FaserF      human       0.998\n",
       "36          36                            zkochan      human       0.998\n",
       "37          37                       aaronliu0130      human       0.999\n",
       "38          38                     coolplaylinbot        bot       0.998\n",
       "39          39                 podman-desktop-bot      human       0.621"
      ]
     },
     "execution_count": 27,
     "metadata": {},
     "output_type": "execute_result"
    }
   ],
   "source": [
    "# Read the predictions given by RABBIT from the corresponding .csv file \n",
    "\n",
    "# YOUR CODE BELOW\n",
    "rdf = pd.read_csv(\"microsoft_winget-pkgs_2/rabbit.csv\")\n",
    "rdf = rdf.rename(columns={\"account\":\"contributor\"})\n",
    "rdf"
   ]
  },
  {
   "cell_type": "code",
   "execution_count": 28,
   "id": "43877324-9c86-42f3-a109-bda2565dab87",
   "metadata": {},
   "outputs": [
    {
     "name": "stdout",
     "output_type": "stream",
     "text": [
      "                          contributor bothunter  bodegha   rabbit\n",
      "0                            lszomoru     Human      Bot      bot\n",
      "1                             piraces     Human  Unknown    human\n",
      "2                         CoolPlayLin     Human      Bot    human\n",
      "3                          lutzroeder     Human      Bot    human\n",
      "4                           TejasMate     Human      Bot      bot\n",
      "5                     dmitriy-abramov     Human  Unknown    human\n",
      "6                             twpayne     Human      Bot    human\n",
      "7                         stacklokbot       Bot      Bot      bot\n",
      "8                          CHIZI-0618     Human      Bot    human\n",
      "9                              Nifury     Human      Bot    human\n",
      "10                              jjw24     Human  Unknown    human\n",
      "11                             exoosh     Human    Human    human\n",
      "12                       SpecterShell     Human      Bot      bot\n",
      "13               youtube-music-winget     Human      Bot      bot\n",
      "14               azure-pipelines[bot]       Bot      Bot      app\n",
      "15                       msftbot[bot]       Bot  Unknown      app\n",
      "16                        msftrubengu     Human  Unknown    human\n",
      "17                          kevinboss     Human      Bot    human\n",
      "18                        nvim-winget       Bot      Bot  unknown\n",
      "19                           rozmansi     Human  Unknown    human\n",
      "20                      stephengillie       Bot    Human      bot\n",
      "21                          ItzLevvie     Human    Human    human\n",
      "22                             stenya     Human  Unknown    human\n",
      "23                              ateoi     Human      Bot      bot\n",
      "24                       xiaoyang-sde     Human  Unknown    human\n",
      "25                            ath0mas     Human  Unknown    human\n",
      "26                        auanasgheps     Human      Bot    human\n",
      "27                          MaanuelMM     Human      Bot    human\n",
      "28                        marcauberer     Human      Bot    human\n",
      "29                       JakubMatejka     Human  Unknown    human\n",
      "30                           azclibot       Bot  Unknown      bot\n",
      "31                     cafkbot-winget     Human      Bot      bot\n",
      "32                            itsAdee     Human      Bot    human\n",
      "33                         pulumi-bot       Bot      Bot      bot\n",
      "34  robot-github-winget-datadog-agent     Human      Bot      bot\n",
      "35                             FaserF     Human    Human    human\n",
      "36                            zkochan     Human      Bot    human\n",
      "37                       aaronliu0130     Human    Human    human\n",
      "38                     coolplaylinbot       Bot      Bot      bot\n",
      "39                 podman-desktop-bot       Bot  Unknown    human\n"
     ]
    }
   ],
   "source": [
    "# merge it to df - Now your df should have the following five columns - contributor, bothunter, app, bodegha, rabbit\n",
    "\n",
    "# YOUR CODE BELOW\n",
    "rdf_m = pd.merge(bdf_m,rdf, on=\"contributor\", how=\"left\")\n",
    "rdf_m = rdf_m.drop('Unnamed: 0', axis=1)\n",
    "rdf_m = rdf_m.drop('confidence', axis=1)\n",
    "rdf_m = rdf_m.rename(columns={\"prediction\":\"rabbit\"})\n",
    "print(rdf_m)"
   ]
  },
  {
   "cell_type": "code",
   "execution_count": 29,
   "id": "3d630b7d-494b-419d-9778-9c2eeb5faecc",
   "metadata": {},
   "outputs": [
    {
     "name": "stdout",
     "output_type": "stream",
     "text": [
      "                          contributor bothunter  bodegha   rabbit\n",
      "0                            lszomoru     Human      Bot      Bot\n",
      "1                             piraces     Human  Unknown    Human\n",
      "2                         CoolPlayLin     Human      Bot    Human\n",
      "3                          lutzroeder     Human      Bot    Human\n",
      "4                           TejasMate     Human      Bot      Bot\n",
      "5                     dmitriy-abramov     Human  Unknown    Human\n",
      "6                             twpayne     Human      Bot    Human\n",
      "7                         stacklokbot       Bot      Bot      Bot\n",
      "8                          CHIZI-0618     Human      Bot    Human\n",
      "9                              Nifury     Human      Bot    Human\n",
      "10                              jjw24     Human  Unknown    Human\n",
      "11                             exoosh     Human    Human    Human\n",
      "12                       SpecterShell     Human      Bot      Bot\n",
      "13               youtube-music-winget     Human      Bot      Bot\n",
      "14               azure-pipelines[bot]       Bot      Bot      Bot\n",
      "15                       msftbot[bot]       Bot  Unknown      Bot\n",
      "16                        msftrubengu     Human  Unknown    Human\n",
      "17                          kevinboss     Human      Bot    Human\n",
      "18                        nvim-winget       Bot      Bot  Unknown\n",
      "19                           rozmansi     Human  Unknown    Human\n",
      "20                      stephengillie       Bot    Human      Bot\n",
      "21                          ItzLevvie     Human    Human    Human\n",
      "22                             stenya     Human  Unknown    Human\n",
      "23                              ateoi     Human      Bot      Bot\n",
      "24                       xiaoyang-sde     Human  Unknown    Human\n",
      "25                            ath0mas     Human  Unknown    Human\n",
      "26                        auanasgheps     Human      Bot    Human\n",
      "27                          MaanuelMM     Human      Bot    Human\n",
      "28                        marcauberer     Human      Bot    Human\n",
      "29                       JakubMatejka     Human  Unknown    Human\n",
      "30                           azclibot       Bot  Unknown      Bot\n",
      "31                     cafkbot-winget     Human      Bot      Bot\n",
      "32                            itsAdee     Human      Bot    Human\n",
      "33                         pulumi-bot       Bot      Bot      Bot\n",
      "34  robot-github-winget-datadog-agent     Human      Bot      Bot\n",
      "35                             FaserF     Human    Human    Human\n",
      "36                            zkochan     Human      Bot    Human\n",
      "37                       aaronliu0130     Human    Human    Human\n",
      "38                     coolplaylinbot       Bot      Bot      Bot\n",
      "39                 podman-desktop-bot       Bot  Unknown    Human\n"
     ]
    }
   ],
   "source": [
    "# Replace the prediction result given by rabbit from 'bot' to 'Bot', 'app' to 'Bot', 'human' to 'Human', 'unknown' to 'Unknown' to maintain consistency\n",
    "\n",
    "# YOUR CODE BELOW\n",
    "rdf_m[\"rabbit\"] = rdf_m.rabbit.replace({'bot' : 'Bot', 'app' : 'Bot', 'human' : 'Human', 'unknown' : 'Unknown' })\n",
    "print(rdf_m)\n"
   ]
  },
  {
   "cell_type": "code",
   "execution_count": 30,
   "id": "1d6d8c92-57ee-4d73-bc2d-8b79a00e443c",
   "metadata": {},
   "outputs": [],
   "source": [
    "rdf_m.to_csv(\"microsoft_winget-pkgs_2/prediction_tools.csv\")"
   ]
  },
  {
   "cell_type": "markdown",
   "id": "a6f38f75-30ec-463f-bc98-89de44a14db4",
   "metadata": {},
   "source": [
    "### Question 2\n",
    "\n",
    "#### Add an extra column to the CSV ﬁle called 'manual' that has the label determined by you. For each account, of your own opinion on its nature (bot, human or unknown only in case of doubt) on the basis of a manual veriﬁcation of the contributor’s activities in the repository through the GitHub UI and through the GitHub Events API https://api.github.com/users/username/events, and taking into account the prediction made by the bot identification tools."
   ]
  },
  {
   "cell_type": "markdown",
   "id": "e0da30a5-19c6-4ebe-b4cf-9641a432a3ec",
   "metadata": {},
   "source": [
    "#### More information:\n",
    "For each contributor, look at their activities in GitHub UI, look at their latest events using GitHub Events API - https://api.github.com/users/<contributor\\>/events, to make a decision on their type. \n",
    "\n",
    "In addition, you should also write a very small reason why do you think they are bot or human (e.g., same activity at regular interval so Bot, files committed and code modified looks like Human, comments look like Human, comment look like Bot, test report looks automated so Bot, and so on....). This might be useful to answer the next question as well."
   ]
  },
  {
   "cell_type": "code",
   "execution_count": 31,
   "id": "884a7612-7ff7-40a4-805f-113c6f70786b",
   "metadata": {},
   "outputs": [],
   "source": [
    "# Write your manual decision here\n",
    "# example : \n",
    "# manual_list_dict = [{'contributor': 'tommens', 'manual': 'human'}, {....}, {....}, {....}]\n",
    "# pd.DataFrame.from_dict(manual_list_dict)\n",
    "\n",
    "# YOUR CODE BELOW\n"
   ]
  },
  {
   "cell_type": "code",
   "execution_count": 32,
   "id": "93c4ce14-c393-45ba-aba0-bf1ae23d1cca",
   "metadata": {},
   "outputs": [],
   "source": [
    "# merge it with df of predictions. Now your df should have the following six columns\n",
    "# contributor, bothunter, app, bodegha, rabbit, manual\n",
    "\n",
    "# YOUR CODE BELOW\n"
   ]
  },
  {
   "cell_type": "markdown",
   "id": "0ec42ed1-0758-4ce4-82cc-542e490626dc",
   "metadata": {},
   "source": [
    "### Question 3\n",
    "\n",
    "#### Study and report the purpose of these identified bots and humans in the repository assigned to you. \n",
    "\n",
    "For example, the purpose can be based on but not limited to - \n",
    "\n",
    "the type of activities that they are performing (releasing a version on every Sunday, updating the documentation), type of comments they are posting (reviewing code, test summary report), when are they triggered (when a new PR is created, when someone in the project ask the bot to merge the code) and so on. \\textbf{Note:} The purpose can be other than what is provided in examples above. \n"
   ]
  },
  {
   "cell_type": "code",
   "execution_count": null,
   "id": "64569eb1-7faa-46e4-bb81-02bb1058b2a7",
   "metadata": {},
   "outputs": [],
   "source": []
  },
  {
   "cell_type": "markdown",
   "id": "0b41eb2e-b481-4502-94b3-f0d28eb8f76a",
   "metadata": {},
   "source": [
    "### Question 4"
   ]
  },
  {
   "cell_type": "markdown",
   "id": "3ad85279-0ee8-49de-8c5a-bf0850494772",
   "metadata": {},
   "source": [
    "#### Create a column named 'type' to the CSV ﬁle and write your ﬁnal decision on the type of contributor. The ﬁnal decision on their type is the prediciton that majority of the raters predicted (you can ignore the 'Unknown'), in the case of contradiction, you can finalise it as Human.\n",
    "#### Case 1: If two raters has mentioned a contributor as Bot and others mentioned it as 'Unknown', then the type of the account is Bot.  \n",
    "#### Case 2: If 3 raters give 'Unknown' to a contributor then the prediction given by the fourth rater is final.\n",
    "#### Case 3: If 2 raters give the prediciton as 'Bot' and 2 raters give it as 'Human', then the final decision is 'Human'\n",
    "#### In this step, GitHub Apps should be marked as App and not as a Bot."
   ]
  },
  {
   "cell_type": "code",
   "execution_count": 33,
   "id": "1040a69f-25cb-467a-9afd-6f32f6ae2a6e",
   "metadata": {},
   "outputs": [
    {
     "name": "stdout",
     "output_type": "stream",
     "text": [
      "Human Bot Bot\n",
      "Human Unknown Human\n",
      "Human Bot Human\n",
      "Human Bot Human\n",
      "Human Bot Bot\n",
      "Human Unknown Human\n",
      "Human Bot Human\n",
      "Bot Bot Bot\n",
      "Human Bot Human\n",
      "Human Bot Human\n",
      "Human Unknown Human\n",
      "Human Human Human\n",
      "Human Bot Bot\n",
      "Human Bot Bot\n",
      "Bot Bot Bot\n",
      "Bot Unknown Bot\n",
      "Human Unknown Human\n",
      "Human Bot Human\n",
      "Bot Bot Unknown\n",
      "Human Unknown Human\n",
      "Bot Human Bot\n",
      "Human Human Human\n",
      "Human Unknown Human\n",
      "Human Bot Bot\n",
      "Human Unknown Human\n",
      "Human Unknown Human\n",
      "Human Bot Human\n",
      "Human Bot Human\n",
      "Human Bot Human\n",
      "Human Unknown Human\n",
      "Bot Unknown Bot\n",
      "Human Bot Bot\n",
      "Human Bot Human\n",
      "Bot Bot Bot\n",
      "Human Bot Bot\n",
      "Human Human Human\n",
      "Human Bot Human\n",
      "Human Human Human\n",
      "Bot Bot Bot\n",
      "Bot Unknown Human\n"
     ]
    }
   ],
   "source": [
    "# Make a final decision on the type based on the predictions given by bothunter, bodegha, bothunter and your manual labelling. \n",
    "# Now your df should contain seven columns - contributor, bothunter, app, bodegha, rabbit, manual and type\n",
    "\n",
    "# YOUR CODE BELOW\n",
    "for ind in rdf_m.index:\n",
    "    print(rdf_m['bothunter'][ind], rdf_m['bodegha'][ind], rdf_m['rabbit'][ind])"
   ]
  },
  {
   "cell_type": "markdown",
   "id": "40f47f01-f3be-4309-b37c-e23b4887db93",
   "metadata": {},
   "source": [
    "### Question 5 (a)\n",
    "\n",
    "#### Compute and report the Fleiss Kappa interrater agreement score between the labels computed by all bot identiﬁcation tools."
   ]
  },
  {
   "cell_type": "markdown",
   "id": "4c828483-7d39-40b0-be45-e61264daa1bd",
   "metadata": {},
   "source": [
    "##### For example:\n",
    "\n",
    "converted_df = aggregate_raters(np.array(df[['rater1','rater2']]))  \n",
    "kappa = fleiss_kappa(converted_df[0])  \n",
    "print('kappa')  "
   ]
  },
  {
   "cell_type": "markdown",
   "id": "e94e819d-1e1b-4e00-935c-617f7b4585f5",
   "metadata": {},
   "source": [
    "#### a. between bothunter and rabbit"
   ]
  },
  {
   "cell_type": "code",
   "execution_count": 34,
   "id": "a72de000-7e18-4e38-a8d0-f0779c2df4dd",
   "metadata": {},
   "outputs": [
    {
     "name": "stdout",
     "output_type": "stream",
     "text": [
      "0.47329919531821535\n"
     ]
    }
   ],
   "source": [
    "converted_df = aggregate_raters(np.array(rdf_m[['bothunter','rabbit']]))\n",
    "kappa = fleiss_kappa(converted_df[0])\n",
    "print(kappa) "
   ]
  },
  {
   "cell_type": "markdown",
   "id": "43b8246f-3071-4642-a0d5-737c5e462f9f",
   "metadata": {},
   "source": [
    "#### b. between bothunter and bodegha"
   ]
  },
  {
   "cell_type": "code",
   "execution_count": 35,
   "id": "cbecc6ac-b80a-4e2d-a944-ceaf61cb6874",
   "metadata": {},
   "outputs": [
    {
     "name": "stdout",
     "output_type": "stream",
     "text": [
      "-0.26016260162601634\n"
     ]
    }
   ],
   "source": [
    "converted_df = aggregate_raters(np.array(rdf_m[['bothunter','bodegha']]))\n",
    "kappa = fleiss_kappa(converted_df[0])\n",
    "print(kappa) "
   ]
  },
  {
   "cell_type": "markdown",
   "id": "bc8ae1a7-f3de-4218-9f10-412e35580490",
   "metadata": {},
   "source": [
    "#### c. between bodegha and rabbit"
   ]
  },
  {
   "cell_type": "code",
   "execution_count": 36,
   "id": "4504ad9e-96dc-4931-94f2-34bac64501ca",
   "metadata": {},
   "outputs": [
    {
     "name": "stdout",
     "output_type": "stream",
     "text": [
      "-0.009591115598182801\n"
     ]
    }
   ],
   "source": [
    "converted_df = aggregate_raters(np.array(rdf_m[['bodegha','rabbit']]))\n",
    "kappa = fleiss_kappa(converted_df[0])\n",
    "print(kappa) "
   ]
  },
  {
   "cell_type": "markdown",
   "id": "5563de23-ee19-4845-ab53-f0ee825c3749",
   "metadata": {},
   "source": [
    "#### d. between bothunter, bodegha and rabbit"
   ]
  },
  {
   "cell_type": "code",
   "execution_count": 37,
   "id": "b09313d6-4b5d-4392-a7a5-d23fdf8763a3",
   "metadata": {},
   "outputs": [
    {
     "name": "stdout",
     "output_type": "stream",
     "text": [
      "0.07076483202287348\n"
     ]
    }
   ],
   "source": [
    "converted_df = aggregate_raters(np.array(rdf_m[['bodegha','rabbit','bothunter']]))\n",
    "kappa = fleiss_kappa(converted_df[0])\n",
    "print(kappa) "
   ]
  },
  {
   "cell_type": "markdown",
   "id": "15475bd2-905a-4676-b68b-0ad24e7465ff",
   "metadata": {},
   "source": [
    "### Question 5 (b)\n",
    "#### Report on\n",
    "#### a. What is you interpretation from the kappa values (use the table provided in the description document)? what do you understand?"
   ]
  },
  {
   "cell_type": "markdown",
   "id": "4a0fe93e-be25-410d-869b-cc6e576442fe",
   "metadata": {},
   "source": [
    "Bodegha lower de agreement in all case.\n",
    "The best agreement is between bothunter and rabbit"
   ]
  },
  {
   "cell_type": "markdown",
   "id": "7e9462bc-95d6-4fd8-8231-f6e13f19c2eb",
   "metadata": {},
   "source": [
    "#### b. Based on your previous analysis, which bot identification tool would you use, if you want to predict if a contributor is a human or bot? Motivate your answer"
   ]
  },
  {
   "cell_type": "markdown",
   "id": "a44156d2-be17-4b11-bca8-f366523218ab",
   "metadata": {},
   "source": [
    "Bothunter:\n",
    "It has biggest rate with rabbit but Bothunter detect obvious bot that have bot in their name\n"
   ]
  },
  {
   "cell_type": "markdown",
   "id": "449e0eb1-aa3a-4ca5-93e4-41ce940bded1",
   "metadata": {},
   "source": [
    "\n",
    "## Section 5\n",
    "\n",
    "#### Query the GitHub Events API to get maximum possible events for each contributor (maximum is 300 events).  \n",
    "#### You can use the following query: '{QUERY_ROOT}/users/{contributor}/events?per_page=100&page={page}' where page = 1 or 2 or 3  \n",
    "#### As you did in earlier task, make a request to GitHub Events API with the required headers, convert the response to JSON, extract the following fields and store in a DataFrame:\n",
    "Event id - json_response['event_id']  \n",
    "Name of the contributor - json_response['actor']['login']  \n",
    "Name of the repository - json_response['repository']['name']  \n",
    "Type of event - json_response['type']  \n",
    "Time of event - json_response['created_at']\n",
    "\n",
    "#### Hint: Query the GitHubEvents API for all contributors. Append the obtained JSON result to a list of JSONs. Process one dictionary after other to get your required fields and store them in another list of dictionaries. Finally convert this dictionaty to DataFrame. OR You can directly convert the list of JSONs to DataFrame using pd.json_normalize() and select the required columns alone.\n",
    "\n",
    "#### The resultant dataframe should have all the recent events performed by all the contributors and the following columns should be present in them - event_id, contributor, repo_name, event_type, created_at.\n"
   ]
  },
  {
   "cell_type": "code",
   "execution_count": 39,
   "id": "a32aae1c-037c-4428-b962-97d1aae2075e",
   "metadata": {},
   "outputs": [],
   "source": [
    "# YOUR CODE BELOW\n",
    "\n",
    "data = {\"Event_id\":[],\"Ccontributor\":[],\"Repository\":[],\"Event_type\":[],\"Event_time\":[]}\n",
    "\n",
    "for contributor in names:\n",
    "    for page in range(1,4):\n",
    "        query = f\"{QUERY_ROOT}/users/{contributor}/events?per_page=100&page={page}\"\n",
    "        response = requests.get(query, headers=HEADERS)\n",
    "        json_responses = response.json()\n",
    "        for json_response in json_responses:\n",
    "            data[\"Event_id\"].append(json_response['id'])\n",
    "            data[\"Ccontributor\"].append(json_response['actor']['login'])\n",
    "            data[\"Repository\"].append(json_response['repo']['name'])\n",
    "            data[\"Event_type\"].append(json_response['type'])\n",
    "            data[\"Event_time\"].append(json_response['created_at'])\n",
    "\n"
   ]
  },
  {
   "cell_type": "code",
   "execution_count": 43,
   "id": "a442a73c-23c9-4e35-a54c-a1cd300c3cc4",
   "metadata": {},
   "outputs": [],
   "source": [
    "edf = pd.DataFrame(data)\n",
    "edf = edf.rename(columns={\"Event_id\":\"event_id\",\"Ccontributor\":\"contributor\",\"Repository\":\"repository\",\"Event_type\":\"event_type\",\"Event_time\":\"event_time\"})\n",
    "edf\n",
    "edf.to_csv(\"./microsoft_winget-pkgs_2/event.csv\")"
   ]
  },
  {
   "cell_type": "markdown",
   "id": "6d107b13-0c4f-4a56-a284-596f73a53d2f",
   "metadata": {},
   "source": [
    "### Question 1\n",
    "#### Group each event into the following four categories\n",
    "\n",
    "Issues: IssueCommentEvent, IssuesEvent  \n",
    "Pull Requests: PullRequestEvent, PullRequestReviewCommentEvent  \n",
    "Commits: CommitCommentEvent, PushEvent  \n",
    "Repository: CreateEvent, DeleteEvent, ForkEvent, GollumEvent, MemberEvent, PublicEvent, ReleaseEvent, SponsorshipEvent, WatchEvent  \n",
    "\n",
    "#### Hint:\n",
    "1. Add a column called event_group that mentions which event group does that event belong to. Each event (row) should correspond to an event group.  \n",
    "2. Then perform groupby on ['contributor','event_group'],  \n",
    "3. use .agg (https://pandas.pydata.org/pandas-docs/stable/reference/api/pandas.DataFrame.agg.html) to count the number of events performed by each contributor in each group,  \n",
    "4. use pivot with the required arguments (https://pandas.pydata.org/pandas-docs/stable/reference/api/pandas.DataFrame.pivot.html). An example is given [here](#pivot_example) in question 2(b), and  \n",
    "5. finally merge it with your 'type' field from the DataFrame you got in Section4\n",
    "\n",
    "The final DataFrame should be looking like the following  \n",
    "![](event_group.png)"
   ]
  },
  {
   "cell_type": "code",
   "execution_count": 44,
   "id": "06072cfd-9de7-4e25-a3fa-11296a728484",
   "metadata": {},
   "outputs": [],
   "source": [
    "# In the resultant DataFrame - each row should corespond to a contributor, and the columns should have all the event groups  \n",
    "# and the type of the contributor (that you decided in the previous DataFrame) and the values should be the number \n",
    "# of events of that event event group the contriubutor has performed.\n",
    "\n",
    "issue_group = ['IssueCommentEvent', 'IssuesEvent']\n",
    "pr_group = ['PullRequestEvent', 'PullRequestReviewCommentEvent']\n",
    "commit_group = ['CommitCommentEvent', 'PushEvent']\n",
    "repo_group = ['CreateEvent', 'DeleteEvent', 'ForkEvent', 'GollumEvent', 'MemberEvent', 'PublicEvent', 'ReleaseEvent', 'SponsorshipEvent', 'WatchEvent']"
   ]
  },
  {
   "cell_type": "code",
   "execution_count": 119,
   "id": "326eaddf-c6f2-4e7e-a3e1-37183a3c90ca",
   "metadata": {},
   "outputs": [
    {
     "data": {
      "text/html": [
       "<div>\n",
       "<style scoped>\n",
       "    .dataframe tbody tr th:only-of-type {\n",
       "        vertical-align: middle;\n",
       "    }\n",
       "\n",
       "    .dataframe tbody tr th {\n",
       "        vertical-align: top;\n",
       "    }\n",
       "\n",
       "    .dataframe thead th {\n",
       "        text-align: right;\n",
       "    }\n",
       "</style>\n",
       "<table border=\"1\" class=\"dataframe\">\n",
       "  <thead>\n",
       "    <tr style=\"text-align: right;\">\n",
       "      <th></th>\n",
       "      <th>contributor</th>\n",
       "      <th>type</th>\n",
       "      <th>commit</th>\n",
       "      <th>repo</th>\n",
       "      <th>PR</th>\n",
       "      <th>issue</th>\n",
       "    </tr>\n",
       "  </thead>\n",
       "  <tbody>\n",
       "    <tr>\n",
       "      <th>0</th>\n",
       "      <td>lszomoru</td>\n",
       "      <td>Human</td>\n",
       "      <td>114.0</td>\n",
       "      <td>11.0</td>\n",
       "      <td>30</td>\n",
       "      <td>73.0</td>\n",
       "    </tr>\n",
       "    <tr>\n",
       "      <th>1</th>\n",
       "      <td>piraces</td>\n",
       "      <td>Human</td>\n",
       "      <td>31.0</td>\n",
       "      <td>17.0</td>\n",
       "      <td>27</td>\n",
       "      <td>5.0</td>\n",
       "    </tr>\n",
       "    <tr>\n",
       "      <th>2</th>\n",
       "      <td>CoolPlayLin</td>\n",
       "      <td>Human</td>\n",
       "      <td>117.0</td>\n",
       "      <td>79.0</td>\n",
       "      <td>75</td>\n",
       "      <td>24.0</td>\n",
       "    </tr>\n",
       "    <tr>\n",
       "      <th>3</th>\n",
       "      <td>lutzroeder</td>\n",
       "      <td>Human</td>\n",
       "      <td>139.0</td>\n",
       "      <td>62.0</td>\n",
       "      <td>32</td>\n",
       "      <td>52.0</td>\n",
       "    </tr>\n",
       "    <tr>\n",
       "      <th>4</th>\n",
       "      <td>TejasMate</td>\n",
       "      <td>Human</td>\n",
       "      <td>138.0</td>\n",
       "      <td>84.0</td>\n",
       "      <td>71</td>\n",
       "      <td>7.0</td>\n",
       "    </tr>\n",
       "    <tr>\n",
       "      <th>5</th>\n",
       "      <td>dmitriy-abramov</td>\n",
       "      <td>Human</td>\n",
       "      <td>5.0</td>\n",
       "      <td>6.0</td>\n",
       "      <td>6</td>\n",
       "      <td>NaN</td>\n",
       "    </tr>\n",
       "    <tr>\n",
       "      <th>6</th>\n",
       "      <td>twpayne</td>\n",
       "      <td>Human</td>\n",
       "      <td>100.0</td>\n",
       "      <td>75.0</td>\n",
       "      <td>53</td>\n",
       "      <td>52.0</td>\n",
       "    </tr>\n",
       "    <tr>\n",
       "      <th>7</th>\n",
       "      <td>stacklokbot</td>\n",
       "      <td>Bot</td>\n",
       "      <td>187.0</td>\n",
       "      <td>16.0</td>\n",
       "      <td>23</td>\n",
       "      <td>NaN</td>\n",
       "    </tr>\n",
       "    <tr>\n",
       "      <th>8</th>\n",
       "      <td>CHIZI-0618</td>\n",
       "      <td>Human</td>\n",
       "      <td>36.0</td>\n",
       "      <td>134.0</td>\n",
       "      <td>5</td>\n",
       "      <td>21.0</td>\n",
       "    </tr>\n",
       "    <tr>\n",
       "      <th>9</th>\n",
       "      <td>Nifury</td>\n",
       "      <td>Human</td>\n",
       "      <td>46.0</td>\n",
       "      <td>33.0</td>\n",
       "      <td>22</td>\n",
       "      <td>14.0</td>\n",
       "    </tr>\n",
       "    <tr>\n",
       "      <th>10</th>\n",
       "      <td>jjw24</td>\n",
       "      <td>Human</td>\n",
       "      <td>202.0</td>\n",
       "      <td>20.0</td>\n",
       "      <td>18</td>\n",
       "      <td>34.0</td>\n",
       "    </tr>\n",
       "    <tr>\n",
       "      <th>11</th>\n",
       "      <td>exoosh</td>\n",
       "      <td>Human</td>\n",
       "      <td>18.0</td>\n",
       "      <td>128.0</td>\n",
       "      <td>8</td>\n",
       "      <td>27.0</td>\n",
       "    </tr>\n",
       "    <tr>\n",
       "      <th>12</th>\n",
       "      <td>SpecterShell</td>\n",
       "      <td>Human</td>\n",
       "      <td>94.0</td>\n",
       "      <td>127.0</td>\n",
       "      <td>76</td>\n",
       "      <td>2.0</td>\n",
       "    </tr>\n",
       "    <tr>\n",
       "      <th>13</th>\n",
       "      <td>youtube-music-winget</td>\n",
       "      <td>Human</td>\n",
       "      <td>9.0</td>\n",
       "      <td>18.0</td>\n",
       "      <td>9</td>\n",
       "      <td>NaN</td>\n",
       "    </tr>\n",
       "    <tr>\n",
       "      <th>14</th>\n",
       "      <td>azure-pipelines[bot]</td>\n",
       "      <td>Bot</td>\n",
       "      <td>21.0</td>\n",
       "      <td>39.0</td>\n",
       "      <td>8</td>\n",
       "      <td>228.0</td>\n",
       "    </tr>\n",
       "    <tr>\n",
       "      <th>15</th>\n",
       "      <td>msftbot[bot]</td>\n",
       "      <td>Bot</td>\n",
       "      <td>NaN</td>\n",
       "      <td>NaN</td>\n",
       "      <td>1</td>\n",
       "      <td>210.0</td>\n",
       "    </tr>\n",
       "    <tr>\n",
       "      <th>16</th>\n",
       "      <td>msftrubengu</td>\n",
       "      <td>Human</td>\n",
       "      <td>40.0</td>\n",
       "      <td>16.0</td>\n",
       "      <td>29</td>\n",
       "      <td>19.0</td>\n",
       "    </tr>\n",
       "    <tr>\n",
       "      <th>17</th>\n",
       "      <td>kevinboss</td>\n",
       "      <td>Human</td>\n",
       "      <td>59.0</td>\n",
       "      <td>59.0</td>\n",
       "      <td>14</td>\n",
       "      <td>5.0</td>\n",
       "    </tr>\n",
       "    <tr>\n",
       "      <th>18</th>\n",
       "      <td>rozmansi</td>\n",
       "      <td>Human</td>\n",
       "      <td>135.0</td>\n",
       "      <td>29.0</td>\n",
       "      <td>9</td>\n",
       "      <td>25.0</td>\n",
       "    </tr>\n",
       "    <tr>\n",
       "      <th>19</th>\n",
       "      <td>stephengillie</td>\n",
       "      <td>Bot</td>\n",
       "      <td>4.0</td>\n",
       "      <td>NaN</td>\n",
       "      <td>6</td>\n",
       "      <td>119.0</td>\n",
       "    </tr>\n",
       "    <tr>\n",
       "      <th>20</th>\n",
       "      <td>ItzLevvie</td>\n",
       "      <td>Human</td>\n",
       "      <td>134.0</td>\n",
       "      <td>17.0</td>\n",
       "      <td>9</td>\n",
       "      <td>19.0</td>\n",
       "    </tr>\n",
       "    <tr>\n",
       "      <th>21</th>\n",
       "      <td>stenya</td>\n",
       "      <td>Human</td>\n",
       "      <td>53.0</td>\n",
       "      <td>77.0</td>\n",
       "      <td>5</td>\n",
       "      <td>39.0</td>\n",
       "    </tr>\n",
       "    <tr>\n",
       "      <th>22</th>\n",
       "      <td>ateoi</td>\n",
       "      <td>Human</td>\n",
       "      <td>96.0</td>\n",
       "      <td>95.0</td>\n",
       "      <td>55</td>\n",
       "      <td>1.0</td>\n",
       "    </tr>\n",
       "    <tr>\n",
       "      <th>23</th>\n",
       "      <td>xiaoyang-sde</td>\n",
       "      <td>Human</td>\n",
       "      <td>85.0</td>\n",
       "      <td>23.0</td>\n",
       "      <td>27</td>\n",
       "      <td>6.0</td>\n",
       "    </tr>\n",
       "    <tr>\n",
       "      <th>24</th>\n",
       "      <td>ath0mas</td>\n",
       "      <td>Human</td>\n",
       "      <td>21.0</td>\n",
       "      <td>22.0</td>\n",
       "      <td>7</td>\n",
       "      <td>7.0</td>\n",
       "    </tr>\n",
       "    <tr>\n",
       "      <th>25</th>\n",
       "      <td>auanasgheps</td>\n",
       "      <td>Human</td>\n",
       "      <td>52.0</td>\n",
       "      <td>33.0</td>\n",
       "      <td>29</td>\n",
       "      <td>90.0</td>\n",
       "    </tr>\n",
       "    <tr>\n",
       "      <th>26</th>\n",
       "      <td>MaanuelMM</td>\n",
       "      <td>Human</td>\n",
       "      <td>57.0</td>\n",
       "      <td>95.0</td>\n",
       "      <td>42</td>\n",
       "      <td>21.0</td>\n",
       "    </tr>\n",
       "    <tr>\n",
       "      <th>27</th>\n",
       "      <td>marcauberer</td>\n",
       "      <td>Human</td>\n",
       "      <td>126.0</td>\n",
       "      <td>42.0</td>\n",
       "      <td>70</td>\n",
       "      <td>17.0</td>\n",
       "    </tr>\n",
       "    <tr>\n",
       "      <th>28</th>\n",
       "      <td>JakubMatejka</td>\n",
       "      <td>Human</td>\n",
       "      <td>52.0</td>\n",
       "      <td>102.0</td>\n",
       "      <td>57</td>\n",
       "      <td>18.0</td>\n",
       "    </tr>\n",
       "    <tr>\n",
       "      <th>29</th>\n",
       "      <td>azclibot</td>\n",
       "      <td>Bot</td>\n",
       "      <td>110.0</td>\n",
       "      <td>60.0</td>\n",
       "      <td>53</td>\n",
       "      <td>76.0</td>\n",
       "    </tr>\n",
       "    <tr>\n",
       "      <th>30</th>\n",
       "      <td>cafkbot-winget</td>\n",
       "      <td>Human</td>\n",
       "      <td>12.0</td>\n",
       "      <td>22.0</td>\n",
       "      <td>12</td>\n",
       "      <td>NaN</td>\n",
       "    </tr>\n",
       "    <tr>\n",
       "      <th>31</th>\n",
       "      <td>itsAdee</td>\n",
       "      <td>Human</td>\n",
       "      <td>60.0</td>\n",
       "      <td>104.0</td>\n",
       "      <td>37</td>\n",
       "      <td>3.0</td>\n",
       "    </tr>\n",
       "    <tr>\n",
       "      <th>32</th>\n",
       "      <td>pulumi-bot</td>\n",
       "      <td>Bot</td>\n",
       "      <td>25.0</td>\n",
       "      <td>35.0</td>\n",
       "      <td>37</td>\n",
       "      <td>48.0</td>\n",
       "    </tr>\n",
       "    <tr>\n",
       "      <th>33</th>\n",
       "      <td>robot-github-winget-datadog-agent</td>\n",
       "      <td>Human</td>\n",
       "      <td>27.0</td>\n",
       "      <td>18.0</td>\n",
       "      <td>16</td>\n",
       "      <td>NaN</td>\n",
       "    </tr>\n",
       "    <tr>\n",
       "      <th>34</th>\n",
       "      <td>FaserF</td>\n",
       "      <td>Human</td>\n",
       "      <td>63.0</td>\n",
       "      <td>31.0</td>\n",
       "      <td>23</td>\n",
       "      <td>45.0</td>\n",
       "    </tr>\n",
       "    <tr>\n",
       "      <th>35</th>\n",
       "      <td>zkochan</td>\n",
       "      <td>Human</td>\n",
       "      <td>168.0</td>\n",
       "      <td>51.0</td>\n",
       "      <td>39</td>\n",
       "      <td>31.0</td>\n",
       "    </tr>\n",
       "    <tr>\n",
       "      <th>36</th>\n",
       "      <td>aaronliu0130</td>\n",
       "      <td>Human</td>\n",
       "      <td>37.0</td>\n",
       "      <td>47.0</td>\n",
       "      <td>28</td>\n",
       "      <td>144.0</td>\n",
       "    </tr>\n",
       "    <tr>\n",
       "      <th>37</th>\n",
       "      <td>coolplaylinbot</td>\n",
       "      <td>Bot</td>\n",
       "      <td>233.0</td>\n",
       "      <td>33.0</td>\n",
       "      <td>29</td>\n",
       "      <td>5.0</td>\n",
       "    </tr>\n",
       "    <tr>\n",
       "      <th>38</th>\n",
       "      <td>podman-desktop-bot</td>\n",
       "      <td>Bot</td>\n",
       "      <td>13.0</td>\n",
       "      <td>14.0</td>\n",
       "      <td>21</td>\n",
       "      <td>NaN</td>\n",
       "    </tr>\n",
       "  </tbody>\n",
       "</table>\n",
       "</div>"
      ],
      "text/plain": [
       "                          contributor   type  commit   repo  PR  issue\n",
       "0                            lszomoru  Human   114.0   11.0  30   73.0\n",
       "1                             piraces  Human    31.0   17.0  27    5.0\n",
       "2                         CoolPlayLin  Human   117.0   79.0  75   24.0\n",
       "3                          lutzroeder  Human   139.0   62.0  32   52.0\n",
       "4                           TejasMate  Human   138.0   84.0  71    7.0\n",
       "5                     dmitriy-abramov  Human     5.0    6.0   6    NaN\n",
       "6                             twpayne  Human   100.0   75.0  53   52.0\n",
       "7                         stacklokbot    Bot   187.0   16.0  23    NaN\n",
       "8                          CHIZI-0618  Human    36.0  134.0   5   21.0\n",
       "9                              Nifury  Human    46.0   33.0  22   14.0\n",
       "10                              jjw24  Human   202.0   20.0  18   34.0\n",
       "11                             exoosh  Human    18.0  128.0   8   27.0\n",
       "12                       SpecterShell  Human    94.0  127.0  76    2.0\n",
       "13               youtube-music-winget  Human     9.0   18.0   9    NaN\n",
       "14               azure-pipelines[bot]    Bot    21.0   39.0   8  228.0\n",
       "15                       msftbot[bot]    Bot     NaN    NaN   1  210.0\n",
       "16                        msftrubengu  Human    40.0   16.0  29   19.0\n",
       "17                          kevinboss  Human    59.0   59.0  14    5.0\n",
       "18                           rozmansi  Human   135.0   29.0   9   25.0\n",
       "19                      stephengillie    Bot     4.0    NaN   6  119.0\n",
       "20                          ItzLevvie  Human   134.0   17.0   9   19.0\n",
       "21                             stenya  Human    53.0   77.0   5   39.0\n",
       "22                              ateoi  Human    96.0   95.0  55    1.0\n",
       "23                       xiaoyang-sde  Human    85.0   23.0  27    6.0\n",
       "24                            ath0mas  Human    21.0   22.0   7    7.0\n",
       "25                        auanasgheps  Human    52.0   33.0  29   90.0\n",
       "26                          MaanuelMM  Human    57.0   95.0  42   21.0\n",
       "27                        marcauberer  Human   126.0   42.0  70   17.0\n",
       "28                       JakubMatejka  Human    52.0  102.0  57   18.0\n",
       "29                           azclibot    Bot   110.0   60.0  53   76.0\n",
       "30                     cafkbot-winget  Human    12.0   22.0  12    NaN\n",
       "31                            itsAdee  Human    60.0  104.0  37    3.0\n",
       "32                         pulumi-bot    Bot    25.0   35.0  37   48.0\n",
       "33  robot-github-winget-datadog-agent  Human    27.0   18.0  16    NaN\n",
       "34                             FaserF  Human    63.0   31.0  23   45.0\n",
       "35                            zkochan  Human   168.0   51.0  39   31.0\n",
       "36                       aaronliu0130  Human    37.0   47.0  28  144.0\n",
       "37                     coolplaylinbot    Bot   233.0   33.0  29    5.0\n",
       "38                 podman-desktop-bot    Bot    13.0   14.0  21    NaN"
      ]
     },
     "execution_count": 119,
     "metadata": {},
     "output_type": "execute_result"
    }
   ],
   "source": [
    "# YOUR CODE BELOW\n",
    "total = {}\n",
    "for ind in edf.index:\n",
    "    cont = total.setdefault(edf['contributor'][ind],{\"contributor\":edf['contributor'][ind]})\n",
    "    typ = edf['event_type'][ind]\n",
    "    if typ in issue_group:\n",
    "        cont.setdefault(\"issue\",0)\n",
    "        cont[\"issue\"] +=1\n",
    "    elif typ in pr_group:\n",
    "        cont.setdefault(\"PR\",0)\n",
    "        cont[\"PR\"] +=1\n",
    "    elif typ in commit_group:\n",
    "        cont.setdefault(\"commit\",0)\n",
    "        cont[\"commit\"] +=1\n",
    "    elif typ in repo_group:\n",
    "        cont.setdefault(\"repo\",0)\n",
    "        cont[\"repo\"] +=1\n",
    "\n",
    "tdf = pd.DataFrame()\n",
    "for v in total.values():\n",
    "    tdf = pd.concat([tdf, pd.DataFrame(v,index=[0])],ignore_index=True)\n",
    "tdf = pd.merge(df, tdf, on='contributor')\n",
    "tdf = tdf.rename(columns={\"bothunter\":\"type\"})\n",
    "tdf.to_csv('./microsoft_winget-pkgs_2/event_count.csv')\n",
    "tdf\n"
   ]
  },
  {
   "cell_type": "code",
   "execution_count": 58,
   "id": "3b8b35af-92af-4ffd-8d99-2dd34d865ac1",
   "metadata": {},
   "outputs": [
    {
     "data": {
      "text/html": [
       "<div>\n",
       "<style scoped>\n",
       "    .dataframe tbody tr th:only-of-type {\n",
       "        vertical-align: middle;\n",
       "    }\n",
       "\n",
       "    .dataframe tbody tr th {\n",
       "        vertical-align: top;\n",
       "    }\n",
       "\n",
       "    .dataframe thead th {\n",
       "        text-align: right;\n",
       "    }\n",
       "</style>\n",
       "<table border=\"1\" class=\"dataframe\">\n",
       "  <thead>\n",
       "    <tr style=\"text-align: right;\">\n",
       "      <th></th>\n",
       "      <th>lszomoru</th>\n",
       "      <th>piraces</th>\n",
       "      <th>CoolPlayLin</th>\n",
       "      <th>lutzroeder</th>\n",
       "      <th>TejasMate</th>\n",
       "      <th>dmitriy-abramov</th>\n",
       "      <th>twpayne</th>\n",
       "      <th>stacklokbot</th>\n",
       "      <th>CHIZI-0618</th>\n",
       "      <th>Nifury</th>\n",
       "      <th>...</th>\n",
       "      <th>azclibot</th>\n",
       "      <th>cafkbot-winget</th>\n",
       "      <th>itsAdee</th>\n",
       "      <th>pulumi-bot</th>\n",
       "      <th>robot-github-winget-datadog-agent</th>\n",
       "      <th>FaserF</th>\n",
       "      <th>zkochan</th>\n",
       "      <th>aaronliu0130</th>\n",
       "      <th>coolplaylinbot</th>\n",
       "      <th>podman-desktop-bot</th>\n",
       "    </tr>\n",
       "  </thead>\n",
       "  <tbody>\n",
       "    <tr>\n",
       "      <th>commit</th>\n",
       "      <td>114</td>\n",
       "      <td>31</td>\n",
       "      <td>117</td>\n",
       "      <td>139</td>\n",
       "      <td>138</td>\n",
       "      <td>5.0</td>\n",
       "      <td>100</td>\n",
       "      <td>187.0</td>\n",
       "      <td>36</td>\n",
       "      <td>46</td>\n",
       "      <td>...</td>\n",
       "      <td>110</td>\n",
       "      <td>12.0</td>\n",
       "      <td>60</td>\n",
       "      <td>25</td>\n",
       "      <td>27.0</td>\n",
       "      <td>63</td>\n",
       "      <td>168</td>\n",
       "      <td>37</td>\n",
       "      <td>233</td>\n",
       "      <td>13.0</td>\n",
       "    </tr>\n",
       "    <tr>\n",
       "      <th>repo</th>\n",
       "      <td>11</td>\n",
       "      <td>17</td>\n",
       "      <td>79</td>\n",
       "      <td>62</td>\n",
       "      <td>84</td>\n",
       "      <td>6.0</td>\n",
       "      <td>75</td>\n",
       "      <td>16.0</td>\n",
       "      <td>134</td>\n",
       "      <td>33</td>\n",
       "      <td>...</td>\n",
       "      <td>60</td>\n",
       "      <td>22.0</td>\n",
       "      <td>104</td>\n",
       "      <td>35</td>\n",
       "      <td>18.0</td>\n",
       "      <td>31</td>\n",
       "      <td>51</td>\n",
       "      <td>47</td>\n",
       "      <td>33</td>\n",
       "      <td>14.0</td>\n",
       "    </tr>\n",
       "    <tr>\n",
       "      <th>PR</th>\n",
       "      <td>30</td>\n",
       "      <td>27</td>\n",
       "      <td>75</td>\n",
       "      <td>32</td>\n",
       "      <td>71</td>\n",
       "      <td>6.0</td>\n",
       "      <td>53</td>\n",
       "      <td>23.0</td>\n",
       "      <td>5</td>\n",
       "      <td>22</td>\n",
       "      <td>...</td>\n",
       "      <td>53</td>\n",
       "      <td>12.0</td>\n",
       "      <td>37</td>\n",
       "      <td>37</td>\n",
       "      <td>16.0</td>\n",
       "      <td>23</td>\n",
       "      <td>39</td>\n",
       "      <td>28</td>\n",
       "      <td>29</td>\n",
       "      <td>21.0</td>\n",
       "    </tr>\n",
       "    <tr>\n",
       "      <th>issue</th>\n",
       "      <td>73</td>\n",
       "      <td>5</td>\n",
       "      <td>24</td>\n",
       "      <td>52</td>\n",
       "      <td>7</td>\n",
       "      <td>NaN</td>\n",
       "      <td>52</td>\n",
       "      <td>NaN</td>\n",
       "      <td>21</td>\n",
       "      <td>14</td>\n",
       "      <td>...</td>\n",
       "      <td>76</td>\n",
       "      <td>NaN</td>\n",
       "      <td>3</td>\n",
       "      <td>48</td>\n",
       "      <td>NaN</td>\n",
       "      <td>45</td>\n",
       "      <td>31</td>\n",
       "      <td>144</td>\n",
       "      <td>5</td>\n",
       "      <td>NaN</td>\n",
       "    </tr>\n",
       "  </tbody>\n",
       "</table>\n",
       "<p>4 rows × 39 columns</p>\n",
       "</div>"
      ],
      "text/plain": [
       "        lszomoru  piraces  CoolPlayLin  lutzroeder  TejasMate  \\\n",
       "commit       114       31          117         139        138   \n",
       "repo          11       17           79          62         84   \n",
       "PR            30       27           75          32         71   \n",
       "issue         73        5           24          52          7   \n",
       "\n",
       "        dmitriy-abramov  twpayne  stacklokbot  CHIZI-0618  Nifury  ...  \\\n",
       "commit              5.0      100        187.0          36      46  ...   \n",
       "repo                6.0       75         16.0         134      33  ...   \n",
       "PR                  6.0       53         23.0           5      22  ...   \n",
       "issue               NaN       52          NaN          21      14  ...   \n",
       "\n",
       "        azclibot  cafkbot-winget  itsAdee  pulumi-bot  \\\n",
       "commit       110            12.0       60          25   \n",
       "repo          60            22.0      104          35   \n",
       "PR            53            12.0       37          37   \n",
       "issue         76             NaN        3          48   \n",
       "\n",
       "        robot-github-winget-datadog-agent  FaserF  zkochan  aaronliu0130  \\\n",
       "commit                               27.0      63      168            37   \n",
       "repo                                 18.0      31       51            47   \n",
       "PR                                   16.0      23       39            28   \n",
       "issue                                 NaN      45       31           144   \n",
       "\n",
       "        coolplaylinbot  podman-desktop-bot  \n",
       "commit             233                13.0  \n",
       "repo                33                14.0  \n",
       "PR                  29                21.0  \n",
       "issue                5                 NaN  \n",
       "\n",
       "[4 rows x 39 columns]"
      ]
     },
     "execution_count": 58,
     "metadata": {},
     "output_type": "execute_result"
    }
   ],
   "source": [
    "# YOUR CODE BELOW\n"
   ]
  },
  {
   "cell_type": "markdown",
   "id": "afca3310-5bef-48f5-be38-e0861d5c43b6",
   "metadata": {},
   "source": [
    "### Question 2 (a)\n",
    "\n",
    "#### Compute the median number of events per event group for Bot+Apps and Humans and write in DataFrame.\n",
    "\n",
    "Row should correspond to type (Bot_App and Human), Column should have Event group name and the values should be the median value of Bot_App or Human for that particular event group. An example is given below"
   ]
  },
  {
   "cell_type": "code",
   "execution_count": 120,
   "id": "ef89644a-1f38-4e67-81ab-c54db8d6c0ad",
   "metadata": {},
   "outputs": [
    {
     "data": {
      "text/html": [
       "<div>\n",
       "<style scoped>\n",
       "    .dataframe tbody tr th:only-of-type {\n",
       "        vertical-align: middle;\n",
       "    }\n",
       "\n",
       "    .dataframe tbody tr th {\n",
       "        vertical-align: top;\n",
       "    }\n",
       "\n",
       "    .dataframe thead th {\n",
       "        text-align: right;\n",
       "    }\n",
       "</style>\n",
       "<table border=\"1\" class=\"dataframe\">\n",
       "  <thead>\n",
       "    <tr style=\"text-align: right;\">\n",
       "      <th></th>\n",
       "      <th>event_group</th>\n",
       "      <th>median</th>\n",
       "      <th>type</th>\n",
       "    </tr>\n",
       "  </thead>\n",
       "  <tbody>\n",
       "    <tr>\n",
       "      <th>0</th>\n",
       "      <td>event_group1</td>\n",
       "      <td>val1</td>\n",
       "      <td>Bot_app</td>\n",
       "    </tr>\n",
       "    <tr>\n",
       "      <th>1</th>\n",
       "      <td>event_group1</td>\n",
       "      <td>val2</td>\n",
       "      <td>Human</td>\n",
       "    </tr>\n",
       "    <tr>\n",
       "      <th>2</th>\n",
       "      <td>event_group2</td>\n",
       "      <td>val3</td>\n",
       "      <td>Bot_app</td>\n",
       "    </tr>\n",
       "    <tr>\n",
       "      <th>3</th>\n",
       "      <td>event_group2</td>\n",
       "      <td>val4</td>\n",
       "      <td>Human</td>\n",
       "    </tr>\n",
       "    <tr>\n",
       "      <th>4</th>\n",
       "      <td>event_group3</td>\n",
       "      <td>val5</td>\n",
       "      <td>Bot_app</td>\n",
       "    </tr>\n",
       "    <tr>\n",
       "      <th>5</th>\n",
       "      <td>event_group3</td>\n",
       "      <td>val6</td>\n",
       "      <td>Human</td>\n",
       "    </tr>\n",
       "    <tr>\n",
       "      <th>6</th>\n",
       "      <td>event_group4</td>\n",
       "      <td>val7</td>\n",
       "      <td>Bot_app</td>\n",
       "    </tr>\n",
       "    <tr>\n",
       "      <th>7</th>\n",
       "      <td>event_group5</td>\n",
       "      <td>val8</td>\n",
       "      <td>Human</td>\n",
       "    </tr>\n",
       "  </tbody>\n",
       "</table>\n",
       "</div>"
      ],
      "text/plain": [
       "    event_group median     type\n",
       "0  event_group1   val1  Bot_app\n",
       "1  event_group1   val2    Human\n",
       "2  event_group2   val3  Bot_app\n",
       "3  event_group2   val4    Human\n",
       "4  event_group3   val5  Bot_app\n",
       "5  event_group3   val6    Human\n",
       "6  event_group4   val7  Bot_app\n",
       "7  event_group5   val8    Human"
      ]
     },
     "execution_count": 120,
     "metadata": {},
     "output_type": "execute_result"
    }
   ],
   "source": [
    "# For example:\n",
    "medians = [{'event_group': 'event_group1', 'median': 'val1', 'type': 'Bot_app'}, \n",
    "           {'event_group': 'event_group1', 'median': 'val2', 'type': 'Human'},\n",
    "           {'event_group': 'event_group2', 'median': 'val3', 'type': 'Bot_app'},\n",
    "           {'event_group': 'event_group2', 'median': 'val4', 'type': 'Human'},\n",
    "           {'event_group': 'event_group3', 'median': 'val5', 'type': 'Bot_app'},\n",
    "           {'event_group': 'event_group3', 'median': 'val6', 'type': 'Human'},\n",
    "           {'event_group': 'event_group4', 'median': 'val7', 'type': 'Bot_app'},\n",
    "           {'event_group': 'event_group5', 'median': 'val8', 'type': 'Human'}]\n",
    "df_medians = pd.DataFrame.from_dict(medians)\n",
    "df_medians"
   ]
  },
  {
   "cell_type": "code",
   "execution_count": null,
   "id": "1c3dc1ce-f19c-44b7-8fa1-35df0ffaa936",
   "metadata": {},
   "outputs": [],
   "source": [
    "# YOUR CODE BELOW"
   ]
  },
  {
   "cell_type": "markdown",
   "id": "8eafa8a6-3c98-41db-bebd-64adc634f77f",
   "metadata": {},
   "source": [
    "### Question 2 (b)\n",
    "\n",
    "Plot a heatmap of the DataFrame using seaborn - \n",
    "1. First convert the dataframe to the required format using pivot, example is given below\n",
    "2. plot using seaborn - sns.heatmap(df_medians, annot=True, vmin=0, vmax=300, cmap=\"crest\"). More details: https://seaborn.pydata.org/generated/seaborn.heatmap.html)"
   ]
  },
  {
   "cell_type": "markdown",
   "id": "2bd13bb8-628d-444e-b4a2-9887378a9cef",
   "metadata": {},
   "source": [
    "#### pd.pivot example:\n",
    "<a id='pivot_example'></a>"
   ]
  },
  {
   "cell_type": "code",
   "execution_count": null,
   "id": "3fbf8d1e-86ba-4b86-8bfc-d1bba83c63a8",
   "metadata": {},
   "outputs": [],
   "source": [
    "# Main DataFrame\n",
    "medians = [{'event_group': 'event_group1', 'median': 'val1', 'type': 'Bot_app'}, \n",
    "           {'event_group': 'event_group1', 'median': 'val2', 'type': 'Human'},\n",
    "           {'event_group': 'event_group2', 'median': 'val3', 'type': 'Bot_app'},\n",
    "           {'event_group': 'event_group2', 'median': 'val4', 'type': 'Human'},\n",
    "           {'event_group': 'event_group3', 'median': 'val5', 'type': 'Bot_app'},\n",
    "           {'event_group': 'event_group3', 'median': 'val6', 'type': 'Human'},\n",
    "           {'event_group': 'event_group4', 'median': 'val7', 'type': 'Bot_app'},\n",
    "           {'event_group': 'event_group5', 'median': 'val8', 'type': 'Human'}]\n",
    "df_medians = pd.DataFrame.from_dict(medians)\n",
    "df_medians"
   ]
  },
  {
   "cell_type": "code",
   "execution_count": null,
   "id": "816f28a7-c281-4808-b987-5d74a1c08271",
   "metadata": {},
   "outputs": [],
   "source": [
    "# pivot the main DataFrame\n",
    "df_medians.pivot(index='type', columns='event_group', values='median')#.reset_index().rename_axis(None,axis=1)"
   ]
  },
  {
   "cell_type": "code",
   "execution_count": null,
   "id": "24478c26-f367-4589-85dc-3cfa22614f3e",
   "metadata": {},
   "outputs": [],
   "source": [
    "# YOUR CODE BELOW"
   ]
  },
  {
   "cell_type": "code",
   "execution_count": null,
   "id": "ab7b9ff6-1286-4c5b-a604-5459b6d2b099",
   "metadata": {},
   "outputs": [],
   "source": [
    "# YOUR CODE BELOW\n"
   ]
  },
  {
   "cell_type": "markdown",
   "id": "19d518fd-10f0-4f91-a38e-595fe89f36a2",
   "metadata": {},
   "source": [
    "#### What is the difference that you observe between Bots+Apps and Humans?"
   ]
  },
  {
   "cell_type": "code",
   "execution_count": null,
   "id": "df3a1600-7110-4866-9de3-42b85b407722",
   "metadata": {},
   "outputs": [],
   "source": []
  },
  {
   "cell_type": "markdown",
   "id": "1bbc377f-79bb-4b52-9bba-fe7cc4a804ab",
   "metadata": {},
   "source": [
    "#### What is the differnce that you observe between Event groups?"
   ]
  },
  {
   "cell_type": "code",
   "execution_count": null,
   "id": "064cc1a2-c910-47a8-b327-deba02a815a1",
   "metadata": {},
   "outputs": [],
   "source": []
  },
  {
   "cell_type": "markdown",
   "id": "5e941d75-0450-46f4-9345-d7f109ff9b92",
   "metadata": {},
   "source": [
    "#### What is the difference that you observe between Bots+Apps and Humans and Event groups all considering at the same time?"
   ]
  },
  {
   "cell_type": "code",
   "execution_count": null,
   "id": "7145cbf9-e9a6-4798-aa23-54428bc7f73b",
   "metadata": {},
   "outputs": [],
   "source": []
  },
  {
   "cell_type": "markdown",
   "id": "5c402f2c-2628-4957-ac76-e48bb85564cf",
   "metadata": {},
   "source": [
    "### Question 3"
   ]
  },
  {
   "cell_type": "markdown",
   "id": "b7fd623c-4bc5-4cef-9649-fb8cdd41e981",
   "metadata": {},
   "source": [
    "#### Create box plots or boxen plots or violin plots or a combination of these to visualise the distribution of number of events in each event group. \n",
    "#### For more information you can visit - https://seaborn.pydata.org/tutorial/categorical.html#categorical-tutorial  \n",
    "#### For violin plots - https://seaborn.pydata.org/generated/seaborn.violinplot.html  \n",
    "#### You should highlight the data points that correspond to bots using a stripplot in seaborn. https://seaborn.pydata.org/tutorial/categorical.html#categorical-tutorial  \n",
    "#### Interpret the results of the visualisation."
   ]
  },
  {
   "cell_type": "code",
   "execution_count": null,
   "id": "21a499ac-e0c7-4b0d-9f90-78b704a13ef2",
   "metadata": {},
   "outputs": [],
   "source": [
    "# YOUR CODE BELOW - Visualize number of events from pull request event group\n"
   ]
  },
  {
   "cell_type": "code",
   "execution_count": null,
   "id": "330c9d73-28a9-4d83-9728-cf595374235b",
   "metadata": {},
   "outputs": [],
   "source": [
    "# YOUR CODE BELOW - Visualise number of events from issue event group\n"
   ]
  },
  {
   "cell_type": "code",
   "execution_count": null,
   "id": "a7ec1644-8c4d-4bd8-b504-3196ddab982e",
   "metadata": {},
   "outputs": [],
   "source": [
    "# YOUR CODE BELOW - Visualise number of events from commit event group\n"
   ]
  },
  {
   "cell_type": "code",
   "execution_count": null,
   "id": "d1c2536a-0f6c-4f2e-a8a5-b07e8abf5217",
   "metadata": {},
   "outputs": [],
   "source": [
    "# YOUR CODE BELOW - Visualise number of events from repo event group\n"
   ]
  },
  {
   "cell_type": "markdown",
   "id": "a663a24f-ebbd-4707-a8e2-c4a72a9451a7",
   "metadata": {},
   "source": [
    "### Question 4.1"
   ]
  },
  {
   "cell_type": "markdown",
   "id": "ea2541bc-5f3a-4ce3-bfb1-21e16104b4c5",
   "metadata": {},
   "source": [
    "#### Statistical identify whether number of events in each event group is normally distributed or not.\n",
    "#### Null hypothesis - $H_0$: Sample comes from the data that has normal distribution.\n",
    "#### Use Shapiro-Wilk test for this purpose. Use the p-value with a threshold of 0.05 to determine whether $H_0$ can be rejected with statistical significance or not. \n",
    "\n",
    "#### Use shapiro from scipy.stats to perform this test (https://docs.scipy.org/doc/scipy/reference/generated/scipy.stats.shapiro.html)"
   ]
  },
  {
   "cell_type": "code",
   "execution_count": null,
   "id": "d4273e9c-f29f-4b46-ab75-3ceb16a2aae6",
   "metadata": {},
   "outputs": [],
   "source": [
    "# YOUR CODE BELOW"
   ]
  },
  {
   "cell_type": "code",
   "execution_count": null,
   "id": "03c8617f-a3ed-40ad-8b2f-7ff0a41c3518",
   "metadata": {},
   "outputs": [],
   "source": []
  },
  {
   "cell_type": "markdown",
   "id": "e7ed78ce-6901-4ddb-a219-d5a8c4e26886",
   "metadata": {},
   "source": [
    "### Question 4.2\n",
    "#### Determine if there is any statistical diﬀerence in number of events between the identified event groups. Perform this test on all pairs of event groups. \n",
    "#### Null hypothesis - $H_0$: Any two event group come from the same population.\n",
    "#### If $H_0$ is rejected in Shapiro-Wilk test (at least for one of the two event groups considered for test), use the Mann-Whitney U statistical test for this purpose. If $H_0$ is not rejected in Shapiro-Wilk test, use the independent t-test for this purpose.  \n",
    "#### In any case, use the p-value with a threshold of 0.01 to determine whether $H_0$ can be rejected with statistical significance. \n",
    "\n",
    "#### Use mannwhitneyu from scipy.stats to perform Mann-Whitney U test (https://docs.scipy.org/doc/scipy/reference/generated/scipy.stats.mannwhitneyu.html) \n",
    "#### or \n",
    "#### ttest_ind from scipy.stats to perform independent t-test https://docs.scipy.org/doc/scipy/reference/generated/scipy.stats.ttest_ind.html."
   ]
  },
  {
   "cell_type": "markdown",
   "id": "3d3fe255-f6a8-4c49-92aa-1859c98d51c1",
   "metadata": {},
   "source": [
    "#### More information:\n",
    "\n",
    "You can pass the following arguments to mannwhitneyu from scipy.stats - (method='exact', nan_policy='omit'). For ttest_ind you can use - (nan_policy='omit')"
   ]
  },
  {
   "cell_type": "code",
   "execution_count": null,
   "id": "7e7c952f-15a8-4634-b786-90ff1e8f20da",
   "metadata": {},
   "outputs": [],
   "source": [
    "# YOUR CODE BELOW"
   ]
  },
  {
   "cell_type": "markdown",
   "id": "f443dbbc-a8f1-4281-aadb-8ec8f9c792da",
   "metadata": {},
   "source": [
    "### Question 5\n",
    "#### Each time you reject the null hypothesis $H_0$, quantify the effect size of the diﬀerence between the groups using cliﬀ’s delta ($\\delta$). \n",
    "#### To calculate cliﬀ’s delta, you can pass the list of values to cliﬀ delta.py file given in the repository. E.g., cliffsDelta.cliffsDelta(list of values). This will return the effect size and its interpretation (negligible, small, medium, large)."
   ]
  },
  {
   "cell_type": "code",
   "execution_count": null,
   "id": "c19a6054-933f-425b-971e-d54a429c901d",
   "metadata": {},
   "outputs": [],
   "source": [
    "# YOU CODE BELOW"
   ]
  },
  {
   "cell_type": "markdown",
   "id": "3cd1e637-c222-4497-b8b6-a61252349bdc",
   "metadata": {},
   "source": [
    "### Qusetion 6"
   ]
  },
  {
   "cell_type": "markdown",
   "id": "d0056ddd-2f2e-49a8-9bda-c4117be7fda7",
   "metadata": {},
   "source": [
    "#### Create violinplots to visualise the distributions for the following metrics and answer the questions that follow it. You should highlight the data points corresponding to bots using a stripplot in seaborn.\n",
    "\n",
    "#### Hint:\n",
    "\n",
    "1. Merge you DataFrame of event with the type of contributor that you identified in section 3.\n",
    "2. Write a function that you will use for all the seaborn plots. This way you can reduce duplication and update it easily."
   ]
  },
  {
   "cell_type": "code",
   "execution_count": null,
   "id": "c7d168b2-50d9-41a8-84ca-3f40fddaaf39",
   "metadata": {},
   "outputs": [],
   "source": [
    "# YOUR CODE BELOW - function for seaborn plot\n"
   ]
  },
  {
   "cell_type": "markdown",
   "id": "04f0e866-0588-40b4-8834-a5722e55d7f2",
   "metadata": {},
   "source": [
    "#### Total number of events"
   ]
  },
  {
   "cell_type": "code",
   "execution_count": null,
   "id": "51e9fca8-4f73-428b-b5ef-d7d7f80a4820",
   "metadata": {},
   "outputs": [],
   "source": [
    "# YOUR CODE BELOW"
   ]
  },
  {
   "cell_type": "markdown",
   "id": "06b79e67-83b8-4f1a-9436-b462e786e7bd",
   "metadata": {},
   "source": [
    "#### Number of event types"
   ]
  },
  {
   "cell_type": "code",
   "execution_count": 57,
   "id": "1f485dcb-900c-4cbb-bb77-06702156d738",
   "metadata": {},
   "outputs": [],
   "source": [
    "# YOUR CODE BELOW"
   ]
  },
  {
   "cell_type": "markdown",
   "id": "e12f1d24-58c4-4da2-a258-64b3f0890aba",
   "metadata": {},
   "source": [
    "#### Mean number of events per event type"
   ]
  },
  {
   "cell_type": "code",
   "execution_count": null,
   "id": "46259ecf-ed64-40b8-b43a-0bf3a2a74444",
   "metadata": {},
   "outputs": [],
   "source": [
    "# YOUR CODE BELOW"
   ]
  },
  {
   "cell_type": "markdown",
   "id": "27470611-0758-4007-809b-61406d11e168",
   "metadata": {},
   "source": [
    "#### Mean number of events per event group"
   ]
  },
  {
   "cell_type": "code",
   "execution_count": null,
   "id": "62068e1f-24de-481b-a3e2-18ae1f246c00",
   "metadata": {},
   "outputs": [],
   "source": [
    "# YOUR CODE BELOW"
   ]
  },
  {
   "cell_type": "markdown",
   "id": "19f6a36a-5db2-4476-86da-8d08038846cb",
   "metadata": {},
   "source": [
    "#### Gini coeﬃcient of time between consecutive event"
   ]
  },
  {
   "cell_type": "code",
   "execution_count": null,
   "id": "7632b026-bf64-4757-b96b-9d6938592fed",
   "metadata": {},
   "outputs": [],
   "source": [
    "def time_diffs(time_stamps):\n",
    "    diff_time_stamps = np.array([])\n",
    "    for i in range(len(time_stamps)-1):\n",
    "        diff = (time_stamps.iloc[i+1] - time_stamps.iloc[i])/pd.to_timedelta('1 second')\n",
    "        diff_time_stamps = np.append(diff_time_stamps, [diff])\n",
    "    return(diff_time_stamps)"
   ]
  },
  {
   "cell_type": "code",
   "execution_count": null,
   "id": "44b4da8d-74aa-4852-b810-b947396eb9c2",
   "metadata": {},
   "outputs": [],
   "source": [
    "def gini(time_stamps):\n",
    "    '''\n",
    "    args: time_stamps - Series of time stamps for a contributor\n",
    "    \n",
    "    return: g_coeff - float that gives gini coefficient\n",
    "    \n",
    "    method: calculate the Gini coefficient of a numpy array\n",
    "    '''\n",
    "    array = time_diffs(time_stamps)\n",
    "    array = array[array!=0]\n",
    "    if len(array) == 0:\n",
    "        return np.float64(0.0)\n",
    "    array = array.flatten()\n",
    "    array = np.sort(array)\n",
    "    index = np.arange(1, array.shape[0] + 1)\n",
    "    n = array.shape[0]\n",
    "    g_coeff = (np.sum((2 * index - n - 1) * array)) / (n * np.sum(array))\n",
    "    \n",
    "    return (g_coeff.round(4))"
   ]
  },
  {
   "cell_type": "markdown",
   "id": "4d438245-7514-441c-82f3-879e40654c40",
   "metadata": {},
   "source": [
    "You can pass a Series of time-stamps to gini(time_stamps) function to get the Gini coeﬃcient\n",
    "#### Hint:\n",
    "1. Groupby the contributors on 'contributor' and use gini as .agg function on 'created_at'.\n",
    "2. Merge the resultant DataFram with their type (the df that you got in section 4)\n",
    "3. Make box/boxen/violin plots on those gini values"
   ]
  },
  {
   "cell_type": "code",
   "execution_count": null,
   "id": "fd745a1f-abe2-4538-8af6-e6004991cd2e",
   "metadata": {},
   "outputs": [],
   "source": [
    "# YOUR CODE BELOW\n"
   ]
  },
  {
   "cell_type": "code",
   "execution_count": null,
   "id": "90504834-e64e-4c1f-b102-733bacae2934",
   "metadata": {},
   "outputs": [],
   "source": [
    "# YOUR CODE BELOW\n"
   ]
  },
  {
   "cell_type": "markdown",
   "id": "e49d9ca9-e5db-4a9d-8c0e-91a9203b546d",
   "metadata": {},
   "source": [
    "### Question 6.1"
   ]
  },
  {
   "cell_type": "markdown",
   "id": "64d6beec-e66b-4c4f-b75a-2fc5a20e9cf1",
   "metadata": {},
   "source": [
    "#### Do you ﬁnd any set of accounts having a diverging behaviour? (Hint: look for outliers.)"
   ]
  },
  {
   "cell_type": "code",
   "execution_count": null,
   "id": "4ae0da5d-52f3-4dc3-8051-8955a31b6de6",
   "metadata": {},
   "outputs": [],
   "source": []
  },
  {
   "cell_type": "markdown",
   "id": "163bc987-51d9-4d18-9120-a38267219d26",
   "metadata": {},
   "source": [
    "### Question 6.2"
   ]
  },
  {
   "cell_type": "markdown",
   "id": "9521d008-1576-4212-98f9-e0740278f106",
   "metadata": {},
   "source": [
    "#### What is the type of the accounts that have diverging behaviour?"
   ]
  },
  {
   "cell_type": "code",
   "execution_count": null,
   "id": "b4a4f4e7-f497-43b2-b889-c8431f9c3f54",
   "metadata": {},
   "outputs": [],
   "source": []
  },
  {
   "cell_type": "markdown",
   "id": "2f0886b1-158f-4e59-83f0-1f8753605fb5",
   "metadata": {},
   "source": [
    "### Question 6.3"
   ]
  },
  {
   "cell_type": "markdown",
   "id": "92a22e22-5b3f-4637-b3c3-d0992b3b0219",
   "metadata": {},
   "source": [
    "#### Do bots have different behaviour than apps? Motivate your answer"
   ]
  },
  {
   "cell_type": "code",
   "execution_count": null,
   "id": "6807c449-d489-46a8-8749-3602685f8351",
   "metadata": {},
   "outputs": [],
   "source": []
  },
  {
   "cell_type": "markdown",
   "id": "b3ad5bea-d77e-45bb-9aff-014845fd648f",
   "metadata": {},
   "source": [
    "### Question 6.4"
   ]
  },
  {
   "cell_type": "markdown",
   "id": "eca85aad-3c25-405b-bcc2-35abf4b3641b",
   "metadata": {},
   "source": [
    "#### Do bots and apps have a diﬀerent behaviour from human accounts? (Hint: in the box plots ﬁnd where the bots and apps are located and find where the humans are located)"
   ]
  },
  {
   "cell_type": "code",
   "execution_count": null,
   "id": "6f4f524e-4651-40fd-8ad1-fb7c82f55126",
   "metadata": {},
   "outputs": [],
   "source": []
  },
  {
   "cell_type": "markdown",
   "id": "a02b6b1b-bdc4-4e2d-8ec8-12fc89737c92",
   "metadata": {},
   "source": [
    "### Question 6.5"
   ]
  },
  {
   "cell_type": "markdown",
   "id": "a15bc77c-e7b7-403b-8974-84f86caa3d77",
   "metadata": {},
   "source": [
    "#### Do all bots (other than outliers) have the same behaviour? List the bots that have a diﬀerent behaviour. Mention your interpretation on the cause of this diverging behaviour compared to other bots?"
   ]
  },
  {
   "cell_type": "code",
   "execution_count": null,
   "id": "1cc51551-8155-4a24-a80b-22ac56b78c33",
   "metadata": {},
   "outputs": [],
   "source": []
  },
  {
   "cell_type": "code",
   "execution_count": null,
   "id": "476c050c-dffa-469c-94f3-568b8c74712e",
   "metadata": {},
   "outputs": [],
   "source": []
  }
 ],
 "metadata": {
  "kernelspec": {
   "display_name": "Python 3 (ipykernel)",
   "language": "python",
   "name": "python3"
  },
  "language_info": {
   "codemirror_mode": {
    "name": "ipython",
    "version": 3
   },
   "file_extension": ".py",
   "mimetype": "text/x-python",
   "name": "python",
   "nbconvert_exporter": "python",
   "pygments_lexer": "ipython3",
   "version": "3.11.8"
  }
 },
 "nbformat": 4,
 "nbformat_minor": 5
}
